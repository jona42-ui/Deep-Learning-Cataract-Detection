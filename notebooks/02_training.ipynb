{
 "cells": [
  {
   "cell_type": "markdown",
   "id": "e8ea046d-9ece-4fc9-b899-becd0f0c84f7",
   "metadata": {},
   "source": [
    "## ResNet50 With Keras\n",
    "The architeccture of this will be provided in the documentation\n",
    "For now we need to under stand the main things we need \n",
    "The choices of these tools are decided upon by the group members.\n",
    "\n",
    "a. Model Compilation:\n",
    "\n",
    "    Specify the optimizer (e.g., Adam), loss function (e.g., binary cross-entropy), and evaluation metrics (e.g., accuracy).\n",
    "\n",
    "b. Training:\n",
    "\n",
    "    Train the compiled model using the data generators.\n",
    "    Provide code snippets for training the model using the Keras fit() function.\n",
    "\n",
    "c. Performance Evaluation:\n",
    "\n",
    "    Evaluate the trained model on the validation data.\n",
    "    Specify the metrics used for evaluation (e.g., accuracy, precision, recall, ROC curves).\n",
    "\n",
    "e. Results Analysis:\n",
    "\n",
    "    Analyze the model's performance and make any necessary adjustments or improvements based on the results."
   ]
  },
  {
   "cell_type": "code",
   "execution_count": null,
   "id": "15319b6b",
   "metadata": {},
   "outputs": [],
   "source": []
  },
  {
   "cell_type": "code",
   "execution_count": null,
   "id": "9e5e04b8-6c38-49ea-92d4-fd00b448ae52",
   "metadata": {},
   "outputs": [],
   "source": []
  }
 ],
 "metadata": {
  "kernelspec": {
   "display_name": "Python 3 (ipykernel)",
   "language": "python",
   "name": "python3"
  },
  "language_info": {
   "codemirror_mode": {
    "name": "ipython",
    "version": 3
   },
   "file_extension": ".py",
   "mimetype": "text/x-python",
   "name": "python",
   "nbconvert_exporter": "python",
   "pygments_lexer": "ipython3",
   "version": "3.9.19"
  }
 },
 "nbformat": 4,
 "nbformat_minor": 5
}
