{
 "cells": [
  {
   "cell_type": "markdown",
   "id": "6fe77349-c1d2-4b91-896e-be719111396f",
   "metadata": {},
   "source": [
    "# Optimize the model Size and Performance for mobile platforms\n",
    "\n",
    "\n",
    "The objective of this notebook is to convert the pytorch model to format compatible to mobile platforms.\n",
    "1. convert the PyTorch model to ONNX format\n",
    "   \n",
    "   ONNX (Open Neural Network Exchange) is open format for exchange of Deep Learning model between different Frameworks. In other words it is format which is widely used for exchanging one model from one framework to other framework. We will first convert model from Pytorch to ONNX so we can transfer it to another framework.\n",
    "The Process of converting to ONNX is that we make a random dummy input and pass it through the model in pytorch and then pass it throught the function of onnx export to export it to a .onnx file. The shape of the dummy input should be (1, shape of single images) in detail the input would be (1, number of color channels, width of picture , height of picture )`"
   ]
  },
  {
   "cell_type": "code",
   "execution_count": 2,
   "id": "7f40b36b-98c3-4d4b-b822-bf1da5b41539",
   "metadata": {},
   "outputs": [],
   "source": [
    "# helper functions for this notebook\n",
    "def gvd(variable):\n",
    "    print(\"The data type of this variable is \" + str(type(variable)))\n",
    "import time\n",
    "def mills():\n",
    "    return int(round(time.time() * 1000))"
   ]
  },
  {
   "cell_type": "code",
   "execution_count": 8,
   "id": "26487765-a98e-49cc-8e8e-b6cae0fc2adb",
   "metadata": {},
   "outputs": [],
   "source": [
    "import torch\n",
    "import torch.onnx\n",
    "import torchvision.models as models\n",
    "import time\n",
    "import onnx\n",
    "import os\n",
    "from PIL import Image"
   ]
  },
  {
   "cell_type": "code",
   "execution_count": 4,
   "id": "6a6565c2-804a-47cb-ae46-60441df3254b",
   "metadata": {},
   "outputs": [
    {
     "name": "stderr",
     "output_type": "stream",
     "text": [
      "/home/thembo/.local/lib/python3.10/site-packages/torchvision/models/_utils.py:208: UserWarning: The parameter 'pretrained' is deprecated since 0.13 and may be removed in the future, please use 'weights' instead.\n",
      "  warnings.warn(\n",
      "/home/thembo/.local/lib/python3.10/site-packages/torchvision/models/_utils.py:223: UserWarning: Arguments other than a weight enum or `None` for 'weights' are deprecated since 0.13 and may be removed in the future. The current behavior is equivalent to passing `weights=None`.\n",
      "  warnings.warn(msg)\n"
     ]
    },
    {
     "name": "stdout",
     "output_type": "stream",
     "text": [
      "Export time: 3.4193809032440186 seconds\n"
     ]
    }
   ],
   "source": [
    "\n",
    "# Load the trained PyTorch model\n",
    "model = models.resnet152(pretrained=False)\n",
    "num_ftrs = model.fc.in_features\n",
    "out_ftrs = 2  # Binary classification\n",
    "model.fc = torch.nn.Sequential(\n",
    "    torch.nn.Linear(num_ftrs, 512),\n",
    "    torch.nn.ReLU(),\n",
    "    torch.nn.Linear(512, out_ftrs),\n",
    "    torch.nn.LogSoftmax(dim=1)\n",
    ")\n",
    "model.load_state_dict(torch.load('final_model.pth'))\n",
    "model.eval()\n",
    "\n",
    "# Example input with batch size of 1\n",
    "dummy_input = torch.randn(1, 3, 224, 224)\n",
    "\n",
    "# Export the model to ONNX format with optimizations\n",
    "start_time = time.time()\n",
    "torch.onnx.export(\n",
    "    model, \n",
    "    dummy_input, \n",
    "    \"model.onnx\", \n",
    "    verbose=False, \n",
    "    export_params=True, \n",
    "    do_constant_folding=True\n",
    ")\n",
    "end_time = time.time()\n",
    "\n",
    "print(f\"Export time: {end_time - start_time} seconds\")\n"
   ]
  },
  {
   "cell_type": "markdown",
   "id": "eab3b03b-001f-47fe-b0ba-efda97561093",
   "metadata": {},
   "source": [
    "\n",
    "## Run ONNX model with ONNX runtime"
   ]
  },
  {
   "cell_type": "code",
   "execution_count": 5,
   "id": "b254af7d-4bfb-4c51-9909-5c7bc4a5bff8",
   "metadata": {},
   "outputs": [
    {
     "data": {
      "text/plain": [
       "'graph main_graph (\\n  %input.1[FLOAT, 1x3x224x224]\\n) initializers (\\n  %fc.0.weight[FLOAT, 512x2048]\\n  %fc.0.bias[FLOAT, 512]\\n  %fc.2.weight[FLOAT, 2x512]\\n  %fc.2.bias[FLOAT, 2]\\n  %onnx::Conv_1454[FLOAT, 64x3x7x7]\\n  %onnx::Conv_1455[FLOAT, 64]\\n  %onnx::Conv_1457[FLOAT, 64x64x1x1]\\n  %onnx::Conv_1458[FLOAT, 64]\\n  %onnx::Conv_1460[FLOAT, 64x64x3x3]\\n  %onnx::Conv_1461[FLOAT, 64]\\n  %onnx::Conv_1463[FLOAT, 256x64x1x1]\\n  %onnx::Conv_1464[FLOAT, 256]\\n  %onnx::Conv_1466[FLOAT, 256x64x1x1]\\n  %onnx::Conv_1467[FLOAT, 256]\\n  %onnx::Conv_1469[FLOAT, 64x256x1x1]\\n  %onnx::Conv_1470[FLOAT, 64]\\n  %onnx::Conv_1472[FLOAT, 64x64x3x3]\\n  %onnx::Conv_1473[FLOAT, 64]\\n  %onnx::Conv_1475[FLOAT, 256x64x1x1]\\n  %onnx::Conv_1476[FLOAT, 256]\\n  %onnx::Conv_1478[FLOAT, 64x256x1x1]\\n  %onnx::Conv_1479[FLOAT, 64]\\n  %onnx::Conv_1481[FLOAT, 64x64x3x3]\\n  %onnx::Conv_1482[FLOAT, 64]\\n  %onnx::Conv_1484[FLOAT, 256x64x1x1]\\n  %onnx::Conv_1485[FLOAT, 256]\\n  %onnx::Conv_1487[FLOAT, 128x256x1x1]\\n  %onnx::Conv_1488[FLOAT, 128]\\n  %onnx::Conv_1490[FLOAT, 128x128x3x3]\\n  %onnx::Conv_1491[FLOAT, 128]\\n  %onnx::Conv_1493[FLOAT, 512x128x1x1]\\n  %onnx::Conv_1494[FLOAT, 512]\\n  %onnx::Conv_1496[FLOAT, 512x256x1x1]\\n  %onnx::Conv_1497[FLOAT, 512]\\n  %onnx::Conv_1499[FLOAT, 128x512x1x1]\\n  %onnx::Conv_1500[FLOAT, 128]\\n  %onnx::Conv_1502[FLOAT, 128x128x3x3]\\n  %onnx::Conv_1503[FLOAT, 128]\\n  %onnx::Conv_1505[FLOAT, 512x128x1x1]\\n  %onnx::Conv_1506[FLOAT, 512]\\n  %onnx::Conv_1508[FLOAT, 128x512x1x1]\\n  %onnx::Conv_1509[FLOAT, 128]\\n  %onnx::Conv_1511[FLOAT, 128x128x3x3]\\n  %onnx::Conv_1512[FLOAT, 128]\\n  %onnx::Conv_1514[FLOAT, 512x128x1x1]\\n  %onnx::Conv_1515[FLOAT, 512]\\n  %onnx::Conv_1517[FLOAT, 128x512x1x1]\\n  %onnx::Conv_1518[FLOAT, 128]\\n  %onnx::Conv_1520[FLOAT, 128x128x3x3]\\n  %onnx::Conv_1521[FLOAT, 128]\\n  %onnx::Conv_1523[FLOAT, 512x128x1x1]\\n  %onnx::Conv_1524[FLOAT, 512]\\n  %onnx::Conv_1526[FLOAT, 128x512x1x1]\\n  %onnx::Conv_1527[FLOAT, 128]\\n  %onnx::Conv_1529[FLOAT, 128x128x3x3]\\n  %onnx::Conv_1530[FLOAT, 128]\\n  %onnx::Conv_1532[FLOAT, 512x128x1x1]\\n  %onnx::Conv_1533[FLOAT, 512]\\n  %onnx::Conv_1535[FLOAT, 128x512x1x1]\\n  %onnx::Conv_1536[FLOAT, 128]\\n  %onnx::Conv_1538[FLOAT, 128x128x3x3]\\n  %onnx::Conv_1539[FLOAT, 128]\\n  %onnx::Conv_1541[FLOAT, 512x128x1x1]\\n  %onnx::Conv_1542[FLOAT, 512]\\n  %onnx::Conv_1544[FLOAT, 128x512x1x1]\\n  %onnx::Conv_1545[FLOAT, 128]\\n  %onnx::Conv_1547[FLOAT, 128x128x3x3]\\n  %onnx::Conv_1548[FLOAT, 128]\\n  %onnx::Conv_1550[FLOAT, 512x128x1x1]\\n  %onnx::Conv_1551[FLOAT, 512]\\n  %onnx::Conv_1553[FLOAT, 128x512x1x1]\\n  %onnx::Conv_1554[FLOAT, 128]\\n  %onnx::Conv_1556[FLOAT, 128x128x3x3]\\n  %onnx::Conv_1557[FLOAT, 128]\\n  %onnx::Conv_1559[FLOAT, 512x128x1x1]\\n  %onnx::Conv_1560[FLOAT, 512]\\n  %onnx::Conv_1562[FLOAT, 256x512x1x1]\\n  %onnx::Conv_1563[FLOAT, 256]\\n  %onnx::Conv_1565[FLOAT, 256x256x3x3]\\n  %onnx::Conv_1566[FLOAT, 256]\\n  %onnx::Conv_1568[FLOAT, 1024x256x1x1]\\n  %onnx::Conv_1569[FLOAT, 1024]\\n  %onnx::Conv_1571[FLOAT, 1024x512x1x1]\\n  %onnx::Conv_1572[FLOAT, 1024]\\n  %onnx::Conv_1574[FLOAT, 256x1024x1x1]\\n  %onnx::Conv_1575[FLOAT, 256]\\n  %onnx::Conv_1577[FLOAT, 256x256x3x3]\\n  %onnx::Conv_1578[FLOAT, 256]\\n  %onnx::Conv_1580[FLOAT, 1024x256x1x1]\\n  %onnx::Conv_1581[FLOAT, 1024]\\n  %onnx::Conv_1583[FLOAT, 256x1024x1x1]\\n  %onnx::Conv_1584[FLOAT, 256]\\n  %onnx::Conv_1586[FLOAT, 256x256x3x3]\\n  %onnx::Conv_1587[FLOAT, 256]\\n  %onnx::Conv_1589[FLOAT, 1024x256x1x1]\\n  %onnx::Conv_1590[FLOAT, 1024]\\n  %onnx::Conv_1592[FLOAT, 256x1024x1x1]\\n  %onnx::Conv_1593[FLOAT, 256]\\n  %onnx::Conv_1595[FLOAT, 256x256x3x3]\\n  %onnx::Conv_1596[FLOAT, 256]\\n  %onnx::Conv_1598[FLOAT, 1024x256x1x1]\\n  %onnx::Conv_1599[FLOAT, 1024]\\n  %onnx::Conv_1601[FLOAT, 256x1024x1x1]\\n  %onnx::Conv_1602[FLOAT, 256]\\n  %onnx::Conv_1604[FLOAT, 256x256x3x3]\\n  %onnx::Conv_1605[FLOAT, 256]\\n  %onnx::Conv_1607[FLOAT, 1024x256x1x1]\\n  %onnx::Conv_1608[FLOAT, 1024]\\n  %onnx::Conv_1610[FLOAT, 256x1024x1x1]\\n  %onnx::Conv_1611[FLOAT, 256]\\n  %onnx::Conv_1613[FLOAT, 256x256x3x3]\\n  %onnx::Conv_1614[FLOAT, 256]\\n  %onnx::Conv_1616[FLOAT, 1024x256x1x1]\\n  %onnx::Conv_1617[FLOAT, 1024]\\n  %onnx::Conv_1619[FLOAT, 256x1024x1x1]\\n  %onnx::Conv_1620[FLOAT, 256]\\n  %onnx::Conv_1622[FLOAT, 256x256x3x3]\\n  %onnx::Conv_1623[FLOAT, 256]\\n  %onnx::Conv_1625[FLOAT, 1024x256x1x1]\\n  %onnx::Conv_1626[FLOAT, 1024]\\n  %onnx::Conv_1628[FLOAT, 256x1024x1x1]\\n  %onnx::Conv_1629[FLOAT, 256]\\n  %onnx::Conv_1631[FLOAT, 256x256x3x3]\\n  %onnx::Conv_1632[FLOAT, 256]\\n  %onnx::Conv_1634[FLOAT, 1024x256x1x1]\\n  %onnx::Conv_1635[FLOAT, 1024]\\n  %onnx::Conv_1637[FLOAT, 256x1024x1x1]\\n  %onnx::Conv_1638[FLOAT, 256]\\n  %onnx::Conv_1640[FLOAT, 256x256x3x3]\\n  %onnx::Conv_1641[FLOAT, 256]\\n  %onnx::Conv_1643[FLOAT, 1024x256x1x1]\\n  %onnx::Conv_1644[FLOAT, 1024]\\n  %onnx::Conv_1646[FLOAT, 256x1024x1x1]\\n  %onnx::Conv_1647[FLOAT, 256]\\n  %onnx::Conv_1649[FLOAT, 256x256x3x3]\\n  %onnx::Conv_1650[FLOAT, 256]\\n  %onnx::Conv_1652[FLOAT, 1024x256x1x1]\\n  %onnx::Conv_1653[FLOAT, 1024]\\n  %onnx::Conv_1655[FLOAT, 256x1024x1x1]\\n  %onnx::Conv_1656[FLOAT, 256]\\n  %onnx::Conv_1658[FLOAT, 256x256x3x3]\\n  %onnx::Conv_1659[FLOAT, 256]\\n  %onnx::Conv_1661[FLOAT, 1024x256x1x1]\\n  %onnx::Conv_1662[FLOAT, 1024]\\n  %onnx::Conv_1664[FLOAT, 256x1024x1x1]\\n  %onnx::Conv_1665[FLOAT, 256]\\n  %onnx::Conv_1667[FLOAT, 256x256x3x3]\\n  %onnx::Conv_1668[FLOAT, 256]\\n  %onnx::Conv_1670[FLOAT, 1024x256x1x1]\\n  %onnx::Conv_1671[FLOAT, 1024]\\n  %onnx::Conv_1673[FLOAT, 256x1024x1x1]\\n  %onnx::Conv_1674[FLOAT, 256]\\n  %onnx::Conv_1676[FLOAT, 256x256x3x3]\\n  %onnx::Conv_1677[FLOAT, 256]\\n  %onnx::Conv_1679[FLOAT, 1024x256x1x1]\\n  %onnx::Conv_1680[FLOAT, 1024]\\n  %onnx::Conv_1682[FLOAT, 256x1024x1x1]\\n  %onnx::Conv_1683[FLOAT, 256]\\n  %onnx::Conv_1685[FLOAT, 256x256x3x3]\\n  %onnx::Conv_1686[FLOAT, 256]\\n  %onnx::Conv_1688[FLOAT, 1024x256x1x1]\\n  %onnx::Conv_1689[FLOAT, 1024]\\n  %onnx::Conv_1691[FLOAT, 256x1024x1x1]\\n  %onnx::Conv_1692[FLOAT, 256]\\n  %onnx::Conv_1694[FLOAT, 256x256x3x3]\\n  %onnx::Conv_1695[FLOAT, 256]\\n  %onnx::Conv_1697[FLOAT, 1024x256x1x1]\\n  %onnx::Conv_1698[FLOAT, 1024]\\n  %onnx::Conv_1700[FLOAT, 256x1024x1x1]\\n  %onnx::Conv_1701[FLOAT, 256]\\n  %onnx::Conv_1703[FLOAT, 256x256x3x3]\\n  %onnx::Conv_1704[FLOAT, 256]\\n  %onnx::Conv_1706[FLOAT, 1024x256x1x1]\\n  %onnx::Conv_1707[FLOAT, 1024]\\n  %onnx::Conv_1709[FLOAT, 256x1024x1x1]\\n  %onnx::Conv_1710[FLOAT, 256]\\n  %onnx::Conv_1712[FLOAT, 256x256x3x3]\\n  %onnx::Conv_1713[FLOAT, 256]\\n  %onnx::Conv_1715[FLOAT, 1024x256x1x1]\\n  %onnx::Conv_1716[FLOAT, 1024]\\n  %onnx::Conv_1718[FLOAT, 256x1024x1x1]\\n  %onnx::Conv_1719[FLOAT, 256]\\n  %onnx::Conv_1721[FLOAT, 256x256x3x3]\\n  %onnx::Conv_1722[FLOAT, 256]\\n  %onnx::Conv_1724[FLOAT, 1024x256x1x1]\\n  %onnx::Conv_1725[FLOAT, 1024]\\n  %onnx::Conv_1727[FLOAT, 256x1024x1x1]\\n  %onnx::Conv_1728[FLOAT, 256]\\n  %onnx::Conv_1730[FLOAT, 256x256x3x3]\\n  %onnx::Conv_1731[FLOAT, 256]\\n  %onnx::Conv_1733[FLOAT, 1024x256x1x1]\\n  %onnx::Conv_1734[FLOAT, 1024]\\n  %onnx::Conv_1736[FLOAT, 256x1024x1x1]\\n  %onnx::Conv_1737[FLOAT, 256]\\n  %onnx::Conv_1739[FLOAT, 256x256x3x3]\\n  %onnx::Conv_1740[FLOAT, 256]\\n  %onnx::Conv_1742[FLOAT, 1024x256x1x1]\\n  %onnx::Conv_1743[FLOAT, 1024]\\n  %onnx::Conv_1745[FLOAT, 256x1024x1x1]\\n  %onnx::Conv_1746[FLOAT, 256]\\n  %onnx::Conv_1748[FLOAT, 256x256x3x3]\\n  %onnx::Conv_1749[FLOAT, 256]\\n  %onnx::Conv_1751[FLOAT, 1024x256x1x1]\\n  %onnx::Conv_1752[FLOAT, 1024]\\n  %onnx::Conv_1754[FLOAT, 256x1024x1x1]\\n  %onnx::Conv_1755[FLOAT, 256]\\n  %onnx::Conv_1757[FLOAT, 256x256x3x3]\\n  %onnx::Conv_1758[FLOAT, 256]\\n  %onnx::Conv_1760[FLOAT, 1024x256x1x1]\\n  %onnx::Conv_1761[FLOAT, 1024]\\n  %onnx::Conv_1763[FLOAT, 256x1024x1x1]\\n  %onnx::Conv_1764[FLOAT, 256]\\n  %onnx::Conv_1766[FLOAT, 256x256x3x3]\\n  %onnx::Conv_1767[FLOAT, 256]\\n  %onnx::Conv_1769[FLOAT, 1024x256x1x1]\\n  %onnx::Conv_1770[FLOAT, 1024]\\n  %onnx::Conv_1772[FLOAT, 256x1024x1x1]\\n  %onnx::Conv_1773[FLOAT, 256]\\n  %onnx::Conv_1775[FLOAT, 256x256x3x3]\\n  %onnx::Conv_1776[FLOAT, 256]\\n  %onnx::Conv_1778[FLOAT, 1024x256x1x1]\\n  %onnx::Conv_1779[FLOAT, 1024]\\n  %onnx::Conv_1781[FLOAT, 256x1024x1x1]\\n  %onnx::Conv_1782[FLOAT, 256]\\n  %onnx::Conv_1784[FLOAT, 256x256x3x3]\\n  %onnx::Conv_1785[FLOAT, 256]\\n  %onnx::Conv_1787[FLOAT, 1024x256x1x1]\\n  %onnx::Conv_1788[FLOAT, 1024]\\n  %onnx::Conv_1790[FLOAT, 256x1024x1x1]\\n  %onnx::Conv_1791[FLOAT, 256]\\n  %onnx::Conv_1793[FLOAT, 256x256x3x3]\\n  %onnx::Conv_1794[FLOAT, 256]\\n  %onnx::Conv_1796[FLOAT, 1024x256x1x1]\\n  %onnx::Conv_1797[FLOAT, 1024]\\n  %onnx::Conv_1799[FLOAT, 256x1024x1x1]\\n  %onnx::Conv_1800[FLOAT, 256]\\n  %onnx::Conv_1802[FLOAT, 256x256x3x3]\\n  %onnx::Conv_1803[FLOAT, 256]\\n  %onnx::Conv_1805[FLOAT, 1024x256x1x1]\\n  %onnx::Conv_1806[FLOAT, 1024]\\n  %onnx::Conv_1808[FLOAT, 256x1024x1x1]\\n  %onnx::Conv_1809[FLOAT, 256]\\n  %onnx::Conv_1811[FLOAT, 256x256x3x3]\\n  %onnx::Conv_1812[FLOAT, 256]\\n  %onnx::Conv_1814[FLOAT, 1024x256x1x1]\\n  %onnx::Conv_1815[FLOAT, 1024]\\n  %onnx::Conv_1817[FLOAT, 256x1024x1x1]\\n  %onnx::Conv_1818[FLOAT, 256]\\n  %onnx::Conv_1820[FLOAT, 256x256x3x3]\\n  %onnx::Conv_1821[FLOAT, 256]\\n  %onnx::Conv_1823[FLOAT, 1024x256x1x1]\\n  %onnx::Conv_1824[FLOAT, 1024]\\n  %onnx::Conv_1826[FLOAT, 256x1024x1x1]\\n  %onnx::Conv_1827[FLOAT, 256]\\n  %onnx::Conv_1829[FLOAT, 256x256x3x3]\\n  %onnx::Conv_1830[FLOAT, 256]\\n  %onnx::Conv_1832[FLOAT, 1024x256x1x1]\\n  %onnx::Conv_1833[FLOAT, 1024]\\n  %onnx::Conv_1835[FLOAT, 256x1024x1x1]\\n  %onnx::Conv_1836[FLOAT, 256]\\n  %onnx::Conv_1838[FLOAT, 256x256x3x3]\\n  %onnx::Conv_1839[FLOAT, 256]\\n  %onnx::Conv_1841[FLOAT, 1024x256x1x1]\\n  %onnx::Conv_1842[FLOAT, 1024]\\n  %onnx::Conv_1844[FLOAT, 256x1024x1x1]\\n  %onnx::Conv_1845[FLOAT, 256]\\n  %onnx::Conv_1847[FLOAT, 256x256x3x3]\\n  %onnx::Conv_1848[FLOAT, 256]\\n  %onnx::Conv_1850[FLOAT, 1024x256x1x1]\\n  %onnx::Conv_1851[FLOAT, 1024]\\n  %onnx::Conv_1853[FLOAT, 256x1024x1x1]\\n  %onnx::Conv_1854[FLOAT, 256]\\n  %onnx::Conv_1856[FLOAT, 256x256x3x3]\\n  %onnx::Conv_1857[FLOAT, 256]\\n  %onnx::Conv_1859[FLOAT, 1024x256x1x1]\\n  %onnx::Conv_1860[FLOAT, 1024]\\n  %onnx::Conv_1862[FLOAT, 256x1024x1x1]\\n  %onnx::Conv_1863[FLOAT, 256]\\n  %onnx::Conv_1865[FLOAT, 256x256x3x3]\\n  %onnx::Conv_1866[FLOAT, 256]\\n  %onnx::Conv_1868[FLOAT, 1024x256x1x1]\\n  %onnx::Conv_1869[FLOAT, 1024]\\n  %onnx::Conv_1871[FLOAT, 256x1024x1x1]\\n  %onnx::Conv_1872[FLOAT, 256]\\n  %onnx::Conv_1874[FLOAT, 256x256x3x3]\\n  %onnx::Conv_1875[FLOAT, 256]\\n  %onnx::Conv_1877[FLOAT, 1024x256x1x1]\\n  %onnx::Conv_1878[FLOAT, 1024]\\n  %onnx::Conv_1880[FLOAT, 256x1024x1x1]\\n  %onnx::Conv_1881[FLOAT, 256]\\n  %onnx::Conv_1883[FLOAT, 256x256x3x3]\\n  %onnx::Conv_1884[FLOAT, 256]\\n  %onnx::Conv_1886[FLOAT, 1024x256x1x1]\\n  %onnx::Conv_1887[FLOAT, 1024]\\n  %onnx::Conv_1889[FLOAT, 512x1024x1x1]\\n  %onnx::Conv_1890[FLOAT, 512]\\n  %onnx::Conv_1892[FLOAT, 512x512x3x3]\\n  %onnx::Conv_1893[FLOAT, 512]\\n  %onnx::Conv_1895[FLOAT, 2048x512x1x1]\\n  %onnx::Conv_1896[FLOAT, 2048]\\n  %onnx::Conv_1898[FLOAT, 2048x1024x1x1]\\n  %onnx::Conv_1899[FLOAT, 2048]\\n  %onnx::Conv_1901[FLOAT, 512x2048x1x1]\\n  %onnx::Conv_1902[FLOAT, 512]\\n  %onnx::Conv_1904[FLOAT, 512x512x3x3]\\n  %onnx::Conv_1905[FLOAT, 512]\\n  %onnx::Conv_1907[FLOAT, 2048x512x1x1]\\n  %onnx::Conv_1908[FLOAT, 2048]\\n  %onnx::Conv_1910[FLOAT, 512x2048x1x1]\\n  %onnx::Conv_1911[FLOAT, 512]\\n  %onnx::Conv_1913[FLOAT, 512x512x3x3]\\n  %onnx::Conv_1914[FLOAT, 512]\\n  %onnx::Conv_1916[FLOAT, 2048x512x1x1]\\n  %onnx::Conv_1917[FLOAT, 2048]\\n) {\\n  %/conv1/Conv_output_0 = Conv[dilations = [1, 1], group = 1, kernel_shape = [7, 7], pads = [3, 3, 3, 3], strides = [2, 2]](%input.1, %onnx::Conv_1454, %onnx::Conv_1455)\\n  %/relu/Relu_output_0 = Relu(%/conv1/Conv_output_0)\\n  %/maxpool/MaxPool_output_0 = MaxPool[ceil_mode = 0, dilations = [1, 1], kernel_shape = [3, 3], pads = [1, 1, 1, 1], strides = [2, 2]](%/relu/Relu_output_0)\\n  %/layer1/layer1.0/conv1/Conv_output_0 = Conv[dilations = [1, 1], group = 1, kernel_shape = [1, 1], pads = [0, 0, 0, 0], strides = [1, 1]](%/maxpool/MaxPool_output_0, %onnx::Conv_1457, %onnx::Conv_1458)\\n  %/layer1/layer1.0/relu/Relu_output_0 = Relu(%/layer1/layer1.0/conv1/Conv_output_0)\\n  %/layer1/layer1.0/conv2/Conv_output_0 = Conv[dilations = [1, 1], group = 1, kernel_shape = [3, 3], pads = [1, 1, 1, 1], strides = [1, 1]](%/layer1/layer1.0/relu/Relu_output_0, %onnx::Conv_1460, %onnx::Conv_1461)\\n  %/layer1/layer1.0/relu_1/Relu_output_0 = Relu(%/layer1/layer1.0/conv2/Conv_output_0)\\n  %/layer1/layer1.0/conv3/Conv_output_0 = Conv[dilations = [1, 1], group = 1, kernel_shape = [1, 1], pads = [0, 0, 0, 0], strides = [1, 1]](%/layer1/layer1.0/relu_1/Relu_output_0, %onnx::Conv_1463, %onnx::Conv_1464)\\n  %/layer1/layer1.0/downsample/downsample.0/Conv_output_0 = Conv[dilations = [1, 1], group = 1, kernel_shape = [1, 1], pads = [0, 0, 0, 0], strides = [1, 1]](%/maxpool/MaxPool_output_0, %onnx::Conv_1466, %onnx::Conv_1467)\\n  %/layer1/layer1.0/Add_output_0 = Add(%/layer1/layer1.0/conv3/Conv_output_0, %/layer1/layer1.0/downsample/downsample.0/Conv_output_0)\\n  %/layer1/layer1.0/relu_2/Relu_output_0 = Relu(%/layer1/layer1.0/Add_output_0)\\n  %/layer1/layer1.1/conv1/Conv_output_0 = Conv[dilations = [1, 1], group = 1, kernel_shape = [1, 1], pads = [0, 0, 0, 0], strides = [1, 1]](%/layer1/layer1.0/relu_2/Relu_output_0, %onnx::Conv_1469, %onnx::Conv_1470)\\n  %/layer1/layer1.1/relu/Relu_output_0 = Relu(%/layer1/layer1.1/conv1/Conv_output_0)\\n  %/layer1/layer1.1/conv2/Conv_output_0 = Conv[dilations = [1, 1], group = 1, kernel_shape = [3, 3], pads = [1, 1, 1, 1], strides = [1, 1]](%/layer1/layer1.1/relu/Relu_output_0, %onnx::Conv_1472, %onnx::Conv_1473)\\n  %/layer1/layer1.1/relu_1/Relu_output_0 = Relu(%/layer1/layer1.1/conv2/Conv_output_0)\\n  %/layer1/layer1.1/conv3/Conv_output_0 = Conv[dilations = [1, 1], group = 1, kernel_shape = [1, 1], pads = [0, 0, 0, 0], strides = [1, 1]](%/layer1/layer1.1/relu_1/Relu_output_0, %onnx::Conv_1475, %onnx::Conv_1476)\\n  %/layer1/layer1.1/Add_output_0 = Add(%/layer1/layer1.1/conv3/Conv_output_0, %/layer1/layer1.0/relu_2/Relu_output_0)\\n  %/layer1/layer1.1/relu_2/Relu_output_0 = Relu(%/layer1/layer1.1/Add_output_0)\\n  %/layer1/layer1.2/conv1/Conv_output_0 = Conv[dilations = [1, 1], group = 1, kernel_shape = [1, 1], pads = [0, 0, 0, 0], strides = [1, 1]](%/layer1/layer1.1/relu_2/Relu_output_0, %onnx::Conv_1478, %onnx::Conv_1479)\\n  %/layer1/layer1.2/relu/Relu_output_0 = Relu(%/layer1/layer1.2/conv1/Conv_output_0)\\n  %/layer1/layer1.2/conv2/Conv_output_0 = Conv[dilations = [1, 1], group = 1, kernel_shape = [3, 3], pads = [1, 1, 1, 1], strides = [1, 1]](%/layer1/layer1.2/relu/Relu_output_0, %onnx::Conv_1481, %onnx::Conv_1482)\\n  %/layer1/layer1.2/relu_1/Relu_output_0 = Relu(%/layer1/layer1.2/conv2/Conv_output_0)\\n  %/layer1/layer1.2/conv3/Conv_output_0 = Conv[dilations = [1, 1], group = 1, kernel_shape = [1, 1], pads = [0, 0, 0, 0], strides = [1, 1]](%/layer1/layer1.2/relu_1/Relu_output_0, %onnx::Conv_1484, %onnx::Conv_1485)\\n  %/layer1/layer1.2/Add_output_0 = Add(%/layer1/layer1.2/conv3/Conv_output_0, %/layer1/layer1.1/relu_2/Relu_output_0)\\n  %/layer1/layer1.2/relu_2/Relu_output_0 = Relu(%/layer1/layer1.2/Add_output_0)\\n  %/layer2/layer2.0/conv1/Conv_output_0 = Conv[dilations = [1, 1], group = 1, kernel_shape = [1, 1], pads = [0, 0, 0, 0], strides = [1, 1]](%/layer1/layer1.2/relu_2/Relu_output_0, %onnx::Conv_1487, %onnx::Conv_1488)\\n  %/layer2/layer2.0/relu/Relu_output_0 = Relu(%/layer2/layer2.0/conv1/Conv_output_0)\\n  %/layer2/layer2.0/conv2/Conv_output_0 = Conv[dilations = [1, 1], group = 1, kernel_shape = [3, 3], pads = [1, 1, 1, 1], strides = [2, 2]](%/layer2/layer2.0/relu/Relu_output_0, %onnx::Conv_1490, %onnx::Conv_1491)\\n  %/layer2/layer2.0/relu_1/Relu_output_0 = Relu(%/layer2/layer2.0/conv2/Conv_output_0)\\n  %/layer2/layer2.0/conv3/Conv_output_0 = Conv[dilations = [1, 1], group = 1, kernel_shape = [1, 1], pads = [0, 0, 0, 0], strides = [1, 1]](%/layer2/layer2.0/relu_1/Relu_output_0, %onnx::Conv_1493, %onnx::Conv_1494)\\n  %/layer2/layer2.0/downsample/downsample.0/Conv_output_0 = Conv[dilations = [1, 1], group = 1, kernel_shape = [1, 1], pads = [0, 0, 0, 0], strides = [2, 2]](%/layer1/layer1.2/relu_2/Relu_output_0, %onnx::Conv_1496, %onnx::Conv_1497)\\n  %/layer2/layer2.0/Add_output_0 = Add(%/layer2/layer2.0/conv3/Conv_output_0, %/layer2/layer2.0/downsample/downsample.0/Conv_output_0)\\n  %/layer2/layer2.0/relu_2/Relu_output_0 = Relu(%/layer2/layer2.0/Add_output_0)\\n  %/layer2/layer2.1/conv1/Conv_output_0 = Conv[dilations = [1, 1], group = 1, kernel_shape = [1, 1], pads = [0, 0, 0, 0], strides = [1, 1]](%/layer2/layer2.0/relu_2/Relu_output_0, %onnx::Conv_1499, %onnx::Conv_1500)\\n  %/layer2/layer2.1/relu/Relu_output_0 = Relu(%/layer2/layer2.1/conv1/Conv_output_0)\\n  %/layer2/layer2.1/conv2/Conv_output_0 = Conv[dilations = [1, 1], group = 1, kernel_shape = [3, 3], pads = [1, 1, 1, 1], strides = [1, 1]](%/layer2/layer2.1/relu/Relu_output_0, %onnx::Conv_1502, %onnx::Conv_1503)\\n  %/layer2/layer2.1/relu_1/Relu_output_0 = Relu(%/layer2/layer2.1/conv2/Conv_output_0)\\n  %/layer2/layer2.1/conv3/Conv_output_0 = Conv[dilations = [1, 1], group = 1, kernel_shape = [1, 1], pads = [0, 0, 0, 0], strides = [1, 1]](%/layer2/layer2.1/relu_1/Relu_output_0, %onnx::Conv_1505, %onnx::Conv_1506)\\n  %/layer2/layer2.1/Add_output_0 = Add(%/layer2/layer2.1/conv3/Conv_output_0, %/layer2/layer2.0/relu_2/Relu_output_0)\\n  %/layer2/layer2.1/relu_2/Relu_output_0 = Relu(%/layer2/layer2.1/Add_output_0)\\n  %/layer2/layer2.2/conv1/Conv_output_0 = Conv[dilations = [1, 1], group = 1, kernel_shape = [1, 1], pads = [0, 0, 0, 0], strides = [1, 1]](%/layer2/layer2.1/relu_2/Relu_output_0, %onnx::Conv_1508, %onnx::Conv_1509)\\n  %/layer2/layer2.2/relu/Relu_output_0 = Relu(%/layer2/layer2.2/conv1/Conv_output_0)\\n  %/layer2/layer2.2/conv2/Conv_output_0 = Conv[dilations = [1, 1], group = 1, kernel_shape = [3, 3], pads = [1, 1, 1, 1], strides = [1, 1]](%/layer2/layer2.2/relu/Relu_output_0, %onnx::Conv_1511, %onnx::Conv_1512)\\n  %/layer2/layer2.2/relu_1/Relu_output_0 = Relu(%/layer2/layer2.2/conv2/Conv_output_0)\\n  %/layer2/layer2.2/conv3/Conv_output_0 = Conv[dilations = [1, 1], group = 1, kernel_shape = [1, 1], pads = [0, 0, 0, 0], strides = [1, 1]](%/layer2/layer2.2/relu_1/Relu_output_0, %onnx::Conv_1514, %onnx::Conv_1515)\\n  %/layer2/layer2.2/Add_output_0 = Add(%/layer2/layer2.2/conv3/Conv_output_0, %/layer2/layer2.1/relu_2/Relu_output_0)\\n  %/layer2/layer2.2/relu_2/Relu_output_0 = Relu(%/layer2/layer2.2/Add_output_0)\\n  %/layer2/layer2.3/conv1/Conv_output_0 = Conv[dilations = [1, 1], group = 1, kernel_shape = [1, 1], pads = [0, 0, 0, 0], strides = [1, 1]](%/layer2/layer2.2/relu_2/Relu_output_0, %onnx::Conv_1517, %onnx::Conv_1518)\\n  %/layer2/layer2.3/relu/Relu_output_0 = Relu(%/layer2/layer2.3/conv1/Conv_output_0)\\n  %/layer2/layer2.3/conv2/Conv_output_0 = Conv[dilations = [1, 1], group = 1, kernel_shape = [3, 3], pads = [1, 1, 1, 1], strides = [1, 1]](%/layer2/layer2.3/relu/Relu_output_0, %onnx::Conv_1520, %onnx::Conv_1521)\\n  %/layer2/layer2.3/relu_1/Relu_output_0 = Relu(%/layer2/layer2.3/conv2/Conv_output_0)\\n  %/layer2/layer2.3/conv3/Conv_output_0 = Conv[dilations = [1, 1], group = 1, kernel_shape = [1, 1], pads = [0, 0, 0, 0], strides = [1, 1]](%/layer2/layer2.3/relu_1/Relu_output_0, %onnx::Conv_1523, %onnx::Conv_1524)\\n  %/layer2/layer2.3/Add_output_0 = Add(%/layer2/layer2.3/conv3/Conv_output_0, %/layer2/layer2.2/relu_2/Relu_output_0)\\n  %/layer2/layer2.3/relu_2/Relu_output_0 = Relu(%/layer2/layer2.3/Add_output_0)\\n  %/layer2/layer2.4/conv1/Conv_output_0 = Conv[dilations = [1, 1], group = 1, kernel_shape = [1, 1], pads = [0, 0, 0, 0], strides = [1, 1]](%/layer2/layer2.3/relu_2/Relu_output_0, %onnx::Conv_1526, %onnx::Conv_1527)\\n  %/layer2/layer2.4/relu/Relu_output_0 = Relu(%/layer2/layer2.4/conv1/Conv_output_0)\\n  %/layer2/layer2.4/conv2/Conv_output_0 = Conv[dilations = [1, 1], group = 1, kernel_shape = [3, 3], pads = [1, 1, 1, 1], strides = [1, 1]](%/layer2/layer2.4/relu/Relu_output_0, %onnx::Conv_1529, %onnx::Conv_1530)\\n  %/layer2/layer2.4/relu_1/Relu_output_0 = Relu(%/layer2/layer2.4/conv2/Conv_output_0)\\n  %/layer2/layer2.4/conv3/Conv_output_0 = Conv[dilations = [1, 1], group = 1, kernel_shape = [1, 1], pads = [0, 0, 0, 0], strides = [1, 1]](%/layer2/layer2.4/relu_1/Relu_output_0, %onnx::Conv_1532, %onnx::Conv_1533)\\n  %/layer2/layer2.4/Add_output_0 = Add(%/layer2/layer2.4/conv3/Conv_output_0, %/layer2/layer2.3/relu_2/Relu_output_0)\\n  %/layer2/layer2.4/relu_2/Relu_output_0 = Relu(%/layer2/layer2.4/Add_output_0)\\n  %/layer2/layer2.5/conv1/Conv_output_0 = Conv[dilations = [1, 1], group = 1, kernel_shape = [1, 1], pads = [0, 0, 0, 0], strides = [1, 1]](%/layer2/layer2.4/relu_2/Relu_output_0, %onnx::Conv_1535, %onnx::Conv_1536)\\n  %/layer2/layer2.5/relu/Relu_output_0 = Relu(%/layer2/layer2.5/conv1/Conv_output_0)\\n  %/layer2/layer2.5/conv2/Conv_output_0 = Conv[dilations = [1, 1], group = 1, kernel_shape = [3, 3], pads = [1, 1, 1, 1], strides = [1, 1]](%/layer2/layer2.5/relu/Relu_output_0, %onnx::Conv_1538, %onnx::Conv_1539)\\n  %/layer2/layer2.5/relu_1/Relu_output_0 = Relu(%/layer2/layer2.5/conv2/Conv_output_0)\\n  %/layer2/layer2.5/conv3/Conv_output_0 = Conv[dilations = [1, 1], group = 1, kernel_shape = [1, 1], pads = [0, 0, 0, 0], strides = [1, 1]](%/layer2/layer2.5/relu_1/Relu_output_0, %onnx::Conv_1541, %onnx::Conv_1542)\\n  %/layer2/layer2.5/Add_output_0 = Add(%/layer2/layer2.5/conv3/Conv_output_0, %/layer2/layer2.4/relu_2/Relu_output_0)\\n  %/layer2/layer2.5/relu_2/Relu_output_0 = Relu(%/layer2/layer2.5/Add_output_0)\\n  %/layer2/layer2.6/conv1/Conv_output_0 = Conv[dilations = [1, 1], group = 1, kernel_shape = [1, 1], pads = [0, 0, 0, 0], strides = [1, 1]](%/layer2/layer2.5/relu_2/Relu_output_0, %onnx::Conv_1544, %onnx::Conv_1545)\\n  %/layer2/layer2.6/relu/Relu_output_0 = Relu(%/layer2/layer2.6/conv1/Conv_output_0)\\n  %/layer2/layer2.6/conv2/Conv_output_0 = Conv[dilations = [1, 1], group = 1, kernel_shape = [3, 3], pads = [1, 1, 1, 1], strides = [1, 1]](%/layer2/layer2.6/relu/Relu_output_0, %onnx::Conv_1547, %onnx::Conv_1548)\\n  %/layer2/layer2.6/relu_1/Relu_output_0 = Relu(%/layer2/layer2.6/conv2/Conv_output_0)\\n  %/layer2/layer2.6/conv3/Conv_output_0 = Conv[dilations = [1, 1], group = 1, kernel_shape = [1, 1], pads = [0, 0, 0, 0], strides = [1, 1]](%/layer2/layer2.6/relu_1/Relu_output_0, %onnx::Conv_1550, %onnx::Conv_1551)\\n  %/layer2/layer2.6/Add_output_0 = Add(%/layer2/layer2.6/conv3/Conv_output_0, %/layer2/layer2.5/relu_2/Relu_output_0)\\n  %/layer2/layer2.6/relu_2/Relu_output_0 = Relu(%/layer2/layer2.6/Add_output_0)\\n  %/layer2/layer2.7/conv1/Conv_output_0 = Conv[dilations = [1, 1], group = 1, kernel_shape = [1, 1], pads = [0, 0, 0, 0], strides = [1, 1]](%/layer2/layer2.6/relu_2/Relu_output_0, %onnx::Conv_1553, %onnx::Conv_1554)\\n  %/layer2/layer2.7/relu/Relu_output_0 = Relu(%/layer2/layer2.7/conv1/Conv_output_0)\\n  %/layer2/layer2.7/conv2/Conv_output_0 = Conv[dilations = [1, 1], group = 1, kernel_shape = [3, 3], pads = [1, 1, 1, 1], strides = [1, 1]](%/layer2/layer2.7/relu/Relu_output_0, %onnx::Conv_1556, %onnx::Conv_1557)\\n  %/layer2/layer2.7/relu_1/Relu_output_0 = Relu(%/layer2/layer2.7/conv2/Conv_output_0)\\n  %/layer2/layer2.7/conv3/Conv_output_0 = Conv[dilations = [1, 1], group = 1, kernel_shape = [1, 1], pads = [0, 0, 0, 0], strides = [1, 1]](%/layer2/layer2.7/relu_1/Relu_output_0, %onnx::Conv_1559, %onnx::Conv_1560)\\n  %/layer2/layer2.7/Add_output_0 = Add(%/layer2/layer2.7/conv3/Conv_output_0, %/layer2/layer2.6/relu_2/Relu_output_0)\\n  %/layer2/layer2.7/relu_2/Relu_output_0 = Relu(%/layer2/layer2.7/Add_output_0)\\n  %/layer3/layer3.0/conv1/Conv_output_0 = Conv[dilations = [1, 1], group = 1, kernel_shape = [1, 1], pads = [0, 0, 0, 0], strides = [1, 1]](%/layer2/layer2.7/relu_2/Relu_output_0, %onnx::Conv_1562, %onnx::Conv_1563)\\n  %/layer3/layer3.0/relu/Relu_output_0 = Relu(%/layer3/layer3.0/conv1/Conv_output_0)\\n  %/layer3/layer3.0/conv2/Conv_output_0 = Conv[dilations = [1, 1], group = 1, kernel_shape = [3, 3], pads = [1, 1, 1, 1], strides = [2, 2]](%/layer3/layer3.0/relu/Relu_output_0, %onnx::Conv_1565, %onnx::Conv_1566)\\n  %/layer3/layer3.0/relu_1/Relu_output_0 = Relu(%/layer3/layer3.0/conv2/Conv_output_0)\\n  %/layer3/layer3.0/conv3/Conv_output_0 = Conv[dilations = [1, 1], group = 1, kernel_shape = [1, 1], pads = [0, 0, 0, 0], strides = [1, 1]](%/layer3/layer3.0/relu_1/Relu_output_0, %onnx::Conv_1568, %onnx::Conv_1569)\\n  %/layer3/layer3.0/downsample/downsample.0/Conv_output_0 = Conv[dilations = [1, 1], group = 1, kernel_shape = [1, 1], pads = [0, 0, 0, 0], strides = [2, 2]](%/layer2/layer2.7/relu_2/Relu_output_0, %onnx::Conv_1571, %onnx::Conv_1572)\\n  %/layer3/layer3.0/Add_output_0 = Add(%/layer3/layer3.0/conv3/Conv_output_0, %/layer3/layer3.0/downsample/downsample.0/Conv_output_0)\\n  %/layer3/layer3.0/relu_2/Relu_output_0 = Relu(%/layer3/layer3.0/Add_output_0)\\n  %/layer3/layer3.1/conv1/Conv_output_0 = Conv[dilations = [1, 1], group = 1, kernel_shape = [1, 1], pads = [0, 0, 0, 0], strides = [1, 1]](%/layer3/layer3.0/relu_2/Relu_output_0, %onnx::Conv_1574, %onnx::Conv_1575)\\n  %/layer3/layer3.1/relu/Relu_output_0 = Relu(%/layer3/layer3.1/conv1/Conv_output_0)\\n  %/layer3/layer3.1/conv2/Conv_output_0 = Conv[dilations = [1, 1], group = 1, kernel_shape = [3, 3], pads = [1, 1, 1, 1], strides = [1, 1]](%/layer3/layer3.1/relu/Relu_output_0, %onnx::Conv_1577, %onnx::Conv_1578)\\n  %/layer3/layer3.1/relu_1/Relu_output_0 = Relu(%/layer3/layer3.1/conv2/Conv_output_0)\\n  %/layer3/layer3.1/conv3/Conv_output_0 = Conv[dilations = [1, 1], group = 1, kernel_shape = [1, 1], pads = [0, 0, 0, 0], strides = [1, 1]](%/layer3/layer3.1/relu_1/Relu_output_0, %onnx::Conv_1580, %onnx::Conv_1581)\\n  %/layer3/layer3.1/Add_output_0 = Add(%/layer3/layer3.1/conv3/Conv_output_0, %/layer3/layer3.0/relu_2/Relu_output_0)\\n  %/layer3/layer3.1/relu_2/Relu_output_0 = Relu(%/layer3/layer3.1/Add_output_0)\\n  %/layer3/layer3.2/conv1/Conv_output_0 = Conv[dilations = [1, 1], group = 1, kernel_shape = [1, 1], pads = [0, 0, 0, 0], strides = [1, 1]](%/layer3/layer3.1/relu_2/Relu_output_0, %onnx::Conv_1583, %onnx::Conv_1584)\\n  %/layer3/layer3.2/relu/Relu_output_0 = Relu(%/layer3/layer3.2/conv1/Conv_output_0)\\n  %/layer3/layer3.2/conv2/Conv_output_0 = Conv[dilations = [1, 1], group = 1, kernel_shape = [3, 3], pads = [1, 1, 1, 1], strides = [1, 1]](%/layer3/layer3.2/relu/Relu_output_0, %onnx::Conv_1586, %onnx::Conv_1587)\\n  %/layer3/layer3.2/relu_1/Relu_output_0 = Relu(%/layer3/layer3.2/conv2/Conv_output_0)\\n  %/layer3/layer3.2/conv3/Conv_output_0 = Conv[dilations = [1, 1], group = 1, kernel_shape = [1, 1], pads = [0, 0, 0, 0], strides = [1, 1]](%/layer3/layer3.2/relu_1/Relu_output_0, %onnx::Conv_1589, %onnx::Conv_1590)\\n  %/layer3/layer3.2/Add_output_0 = Add(%/layer3/layer3.2/conv3/Conv_output_0, %/layer3/layer3.1/relu_2/Relu_output_0)\\n  %/layer3/layer3.2/relu_2/Relu_output_0 = Relu(%/layer3/layer3.2/Add_output_0)\\n  %/layer3/layer3.3/conv1/Conv_output_0 = Conv[dilations = [1, 1], group = 1, kernel_shape = [1, 1], pads = [0, 0, 0, 0], strides = [1, 1]](%/layer3/layer3.2/relu_2/Relu_output_0, %onnx::Conv_1592, %onnx::Conv_1593)\\n  %/layer3/layer3.3/relu/Relu_output_0 = Relu(%/layer3/layer3.3/conv1/Conv_output_0)\\n  %/layer3/layer3.3/conv2/Conv_output_0 = Conv[dilations = [1, 1], group = 1, kernel_shape = [3, 3], pads = [1, 1, 1, 1], strides = [1, 1]](%/layer3/layer3.3/relu/Relu_output_0, %onnx::Conv_1595, %onnx::Conv_1596)\\n  %/layer3/layer3.3/relu_1/Relu_output_0 = Relu(%/layer3/layer3.3/conv2/Conv_output_0)\\n  %/layer3/layer3.3/conv3/Conv_output_0 = Conv[dilations = [1, 1], group = 1, kernel_shape = [1, 1], pads = [0, 0, 0, 0], strides = [1, 1]](%/layer3/layer3.3/relu_1/Relu_output_0, %onnx::Conv_1598, %onnx::Conv_1599)\\n  %/layer3/layer3.3/Add_output_0 = Add(%/layer3/layer3.3/conv3/Conv_output_0, %/layer3/layer3.2/relu_2/Relu_output_0)\\n  %/layer3/layer3.3/relu_2/Relu_output_0 = Relu(%/layer3/layer3.3/Add_output_0)\\n  %/layer3/layer3.4/conv1/Conv_output_0 = Conv[dilations = [1, 1], group = 1, kernel_shape = [1, 1], pads = [0, 0, 0, 0], strides = [1, 1]](%/layer3/layer3.3/relu_2/Relu_output_0, %onnx::Conv_1601, %onnx::Conv_1602)\\n  %/layer3/layer3.4/relu/Relu_output_0 = Relu(%/layer3/layer3.4/conv1/Conv_output_0)\\n  %/layer3/layer3.4/conv2/Conv_output_0 = Conv[dilations = [1, 1], group = 1, kernel_shape = [3, 3], pads = [1, 1, 1, 1], strides = [1, 1]](%/layer3/layer3.4/relu/Relu_output_0, %onnx::Conv_1604, %onnx::Conv_1605)\\n  %/layer3/layer3.4/relu_1/Relu_output_0 = Relu(%/layer3/layer3.4/conv2/Conv_output_0)\\n  %/layer3/layer3.4/conv3/Conv_output_0 = Conv[dilations = [1, 1], group = 1, kernel_shape = [1, 1], pads = [0, 0, 0, 0], strides = [1, 1]](%/layer3/layer3.4/relu_1/Relu_output_0, %onnx::Conv_1607, %onnx::Conv_1608)\\n  %/layer3/layer3.4/Add_output_0 = Add(%/layer3/layer3.4/conv3/Conv_output_0, %/layer3/layer3.3/relu_2/Relu_output_0)\\n  %/layer3/layer3.4/relu_2/Relu_output_0 = Relu(%/layer3/layer3.4/Add_output_0)\\n  %/layer3/layer3.5/conv1/Conv_output_0 = Conv[dilations = [1, 1], group = 1, kernel_shape = [1, 1], pads = [0, 0, 0, 0], strides = [1, 1]](%/layer3/layer3.4/relu_2/Relu_output_0, %onnx::Conv_1610, %onnx::Conv_1611)\\n  %/layer3/layer3.5/relu/Relu_output_0 = Relu(%/layer3/layer3.5/conv1/Conv_output_0)\\n  %/layer3/layer3.5/conv2/Conv_output_0 = Conv[dilations = [1, 1], group = 1, kernel_shape = [3, 3], pads = [1, 1, 1, 1], strides = [1, 1]](%/layer3/layer3.5/relu/Relu_output_0, %onnx::Conv_1613, %onnx::Conv_1614)\\n  %/layer3/layer3.5/relu_1/Relu_output_0 = Relu(%/layer3/layer3.5/conv2/Conv_output_0)\\n  %/layer3/layer3.5/conv3/Conv_output_0 = Conv[dilations = [1, 1], group = 1, kernel_shape = [1, 1], pads = [0, 0, 0, 0], strides = [1, 1]](%/layer3/layer3.5/relu_1/Relu_output_0, %onnx::Conv_1616, %onnx::Conv_1617)\\n  %/layer3/layer3.5/Add_output_0 = Add(%/layer3/layer3.5/conv3/Conv_output_0, %/layer3/layer3.4/relu_2/Relu_output_0)\\n  %/layer3/layer3.5/relu_2/Relu_output_0 = Relu(%/layer3/layer3.5/Add_output_0)\\n  %/layer3/layer3.6/conv1/Conv_output_0 = Conv[dilations = [1, 1], group = 1, kernel_shape = [1, 1], pads = [0, 0, 0, 0], strides = [1, 1]](%/layer3/layer3.5/relu_2/Relu_output_0, %onnx::Conv_1619, %onnx::Conv_1620)\\n  %/layer3/layer3.6/relu/Relu_output_0 = Relu(%/layer3/layer3.6/conv1/Conv_output_0)\\n  %/layer3/layer3.6/conv2/Conv_output_0 = Conv[dilations = [1, 1], group = 1, kernel_shape = [3, 3], pads = [1, 1, 1, 1], strides = [1, 1]](%/layer3/layer3.6/relu/Relu_output_0, %onnx::Conv_1622, %onnx::Conv_1623)\\n  %/layer3/layer3.6/relu_1/Relu_output_0 = Relu(%/layer3/layer3.6/conv2/Conv_output_0)\\n  %/layer3/layer3.6/conv3/Conv_output_0 = Conv[dilations = [1, 1], group = 1, kernel_shape = [1, 1], pads = [0, 0, 0, 0], strides = [1, 1]](%/layer3/layer3.6/relu_1/Relu_output_0, %onnx::Conv_1625, %onnx::Conv_1626)\\n  %/layer3/layer3.6/Add_output_0 = Add(%/layer3/layer3.6/conv3/Conv_output_0, %/layer3/layer3.5/relu_2/Relu_output_0)\\n  %/layer3/layer3.6/relu_2/Relu_output_0 = Relu(%/layer3/layer3.6/Add_output_0)\\n  %/layer3/layer3.7/conv1/Conv_output_0 = Conv[dilations = [1, 1], group = 1, kernel_shape = [1, 1], pads = [0, 0, 0, 0], strides = [1, 1]](%/layer3/layer3.6/relu_2/Relu_output_0, %onnx::Conv_1628, %onnx::Conv_1629)\\n  %/layer3/layer3.7/relu/Relu_output_0 = Relu(%/layer3/layer3.7/conv1/Conv_output_0)\\n  %/layer3/layer3.7/conv2/Conv_output_0 = Conv[dilations = [1, 1], group = 1, kernel_shape = [3, 3], pads = [1, 1, 1, 1], strides = [1, 1]](%/layer3/layer3.7/relu/Relu_output_0, %onnx::Conv_1631, %onnx::Conv_1632)\\n  %/layer3/layer3.7/relu_1/Relu_output_0 = Relu(%/layer3/layer3.7/conv2/Conv_output_0)\\n  %/layer3/layer3.7/conv3/Conv_output_0 = Conv[dilations = [1, 1], group = 1, kernel_shape = [1, 1], pads = [0, 0, 0, 0], strides = [1, 1]](%/layer3/layer3.7/relu_1/Relu_output_0, %onnx::Conv_1634, %onnx::Conv_1635)\\n  %/layer3/layer3.7/Add_output_0 = Add(%/layer3/layer3.7/conv3/Conv_output_0, %/layer3/layer3.6/relu_2/Relu_output_0)\\n  %/layer3/layer3.7/relu_2/Relu_output_0 = Relu(%/layer3/layer3.7/Add_output_0)\\n  %/layer3/layer3.8/conv1/Conv_output_0 = Conv[dilations = [1, 1], group = 1, kernel_shape = [1, 1], pads = [0, 0, 0, 0], strides = [1, 1]](%/layer3/layer3.7/relu_2/Relu_output_0, %onnx::Conv_1637, %onnx::Conv_1638)\\n  %/layer3/layer3.8/relu/Relu_output_0 = Relu(%/layer3/layer3.8/conv1/Conv_output_0)\\n  %/layer3/layer3.8/conv2/Conv_output_0 = Conv[dilations = [1, 1], group = 1, kernel_shape = [3, 3], pads = [1, 1, 1, 1], strides = [1, 1]](%/layer3/layer3.8/relu/Relu_output_0, %onnx::Conv_1640, %onnx::Conv_1641)\\n  %/layer3/layer3.8/relu_1/Relu_output_0 = Relu(%/layer3/layer3.8/conv2/Conv_output_0)\\n  %/layer3/layer3.8/conv3/Conv_output_0 = Conv[dilations = [1, 1], group = 1, kernel_shape = [1, 1], pads = [0, 0, 0, 0], strides = [1, 1]](%/layer3/layer3.8/relu_1/Relu_output_0, %onnx::Conv_1643, %onnx::Conv_1644)\\n  %/layer3/layer3.8/Add_output_0 = Add(%/layer3/layer3.8/conv3/Conv_output_0, %/layer3/layer3.7/relu_2/Relu_output_0)\\n  %/layer3/layer3.8/relu_2/Relu_output_0 = Relu(%/layer3/layer3.8/Add_output_0)\\n  %/layer3/layer3.9/conv1/Conv_output_0 = Conv[dilations = [1, 1], group = 1, kernel_shape = [1, 1], pads = [0, 0, 0, 0], strides = [1, 1]](%/layer3/layer3.8/relu_2/Relu_output_0, %onnx::Conv_1646, %onnx::Conv_1647)\\n  %/layer3/layer3.9/relu/Relu_output_0 = Relu(%/layer3/layer3.9/conv1/Conv_output_0)\\n  %/layer3/layer3.9/conv2/Conv_output_0 = Conv[dilations = [1, 1], group = 1, kernel_shape = [3, 3], pads = [1, 1, 1, 1], strides = [1, 1]](%/layer3/layer3.9/relu/Relu_output_0, %onnx::Conv_1649, %onnx::Conv_1650)\\n  %/layer3/layer3.9/relu_1/Relu_output_0 = Relu(%/layer3/layer3.9/conv2/Conv_output_0)\\n  %/layer3/layer3.9/conv3/Conv_output_0 = Conv[dilations = [1, 1], group = 1, kernel_shape = [1, 1], pads = [0, 0, 0, 0], strides = [1, 1]](%/layer3/layer3.9/relu_1/Relu_output_0, %onnx::Conv_1652, %onnx::Conv_1653)\\n  %/layer3/layer3.9/Add_output_0 = Add(%/layer3/layer3.9/conv3/Conv_output_0, %/layer3/layer3.8/relu_2/Relu_output_0)\\n  %/layer3/layer3.9/relu_2/Relu_output_0 = Relu(%/layer3/layer3.9/Add_output_0)\\n  %/layer3/layer3.10/conv1/Conv_output_0 = Conv[dilations = [1, 1], group = 1, kernel_shape = [1, 1], pads = [0, 0, 0, 0], strides = [1, 1]](%/layer3/layer3.9/relu_2/Relu_output_0, %onnx::Conv_1655, %onnx::Conv_1656)\\n  %/layer3/layer3.10/relu/Relu_output_0 = Relu(%/layer3/layer3.10/conv1/Conv_output_0)\\n  %/layer3/layer3.10/conv2/Conv_output_0 = Conv[dilations = [1, 1], group = 1, kernel_shape = [3, 3], pads = [1, 1, 1, 1], strides = [1, 1]](%/layer3/layer3.10/relu/Relu_output_0, %onnx::Conv_1658, %onnx::Conv_1659)\\n  %/layer3/layer3.10/relu_1/Relu_output_0 = Relu(%/layer3/layer3.10/conv2/Conv_output_0)\\n  %/layer3/layer3.10/conv3/Conv_output_0 = Conv[dilations = [1, 1], group = 1, kernel_shape = [1, 1], pads = [0, 0, 0, 0], strides = [1, 1]](%/layer3/layer3.10/relu_1/Relu_output_0, %onnx::Conv_1661, %onnx::Conv_1662)\\n  %/layer3/layer3.10/Add_output_0 = Add(%/layer3/layer3.10/conv3/Conv_output_0, %/layer3/layer3.9/relu_2/Relu_output_0)\\n  %/layer3/layer3.10/relu_2/Relu_output_0 = Relu(%/layer3/layer3.10/Add_output_0)\\n  %/layer3/layer3.11/conv1/Conv_output_0 = Conv[dilations = [1, 1], group = 1, kernel_shape = [1, 1], pads = [0, 0, 0, 0], strides = [1, 1]](%/layer3/layer3.10/relu_2/Relu_output_0, %onnx::Conv_1664, %onnx::Conv_1665)\\n  %/layer3/layer3.11/relu/Relu_output_0 = Relu(%/layer3/layer3.11/conv1/Conv_output_0)\\n  %/layer3/layer3.11/conv2/Conv_output_0 = Conv[dilations = [1, 1], group = 1, kernel_shape = [3, 3], pads = [1, 1, 1, 1], strides = [1, 1]](%/layer3/layer3.11/relu/Relu_output_0, %onnx::Conv_1667, %onnx::Conv_1668)\\n  %/layer3/layer3.11/relu_1/Relu_output_0 = Relu(%/layer3/layer3.11/conv2/Conv_output_0)\\n  %/layer3/layer3.11/conv3/Conv_output_0 = Conv[dilations = [1, 1], group = 1, kernel_shape = [1, 1], pads = [0, 0, 0, 0], strides = [1, 1]](%/layer3/layer3.11/relu_1/Relu_output_0, %onnx::Conv_1670, %onnx::Conv_1671)\\n  %/layer3/layer3.11/Add_output_0 = Add(%/layer3/layer3.11/conv3/Conv_output_0, %/layer3/layer3.10/relu_2/Relu_output_0)\\n  %/layer3/layer3.11/relu_2/Relu_output_0 = Relu(%/layer3/layer3.11/Add_output_0)\\n  %/layer3/layer3.12/conv1/Conv_output_0 = Conv[dilations = [1, 1], group = 1, kernel_shape = [1, 1], pads = [0, 0, 0, 0], strides = [1, 1]](%/layer3/layer3.11/relu_2/Relu_output_0, %onnx::Conv_1673, %onnx::Conv_1674)\\n  %/layer3/layer3.12/relu/Relu_output_0 = Relu(%/layer3/layer3.12/conv1/Conv_output_0)\\n  %/layer3/layer3.12/conv2/Conv_output_0 = Conv[dilations = [1, 1], group = 1, kernel_shape = [3, 3], pads = [1, 1, 1, 1], strides = [1, 1]](%/layer3/layer3.12/relu/Relu_output_0, %onnx::Conv_1676, %onnx::Conv_1677)\\n  %/layer3/layer3.12/relu_1/Relu_output_0 = Relu(%/layer3/layer3.12/conv2/Conv_output_0)\\n  %/layer3/layer3.12/conv3/Conv_output_0 = Conv[dilations = [1, 1], group = 1, kernel_shape = [1, 1], pads = [0, 0, 0, 0], strides = [1, 1]](%/layer3/layer3.12/relu_1/Relu_output_0, %onnx::Conv_1679, %onnx::Conv_1680)\\n  %/layer3/layer3.12/Add_output_0 = Add(%/layer3/layer3.12/conv3/Conv_output_0, %/layer3/layer3.11/relu_2/Relu_output_0)\\n  %/layer3/layer3.12/relu_2/Relu_output_0 = Relu(%/layer3/layer3.12/Add_output_0)\\n  %/layer3/layer3.13/conv1/Conv_output_0 = Conv[dilations = [1, 1], group = 1, kernel_shape = [1, 1], pads = [0, 0, 0, 0], strides = [1, 1]](%/layer3/layer3.12/relu_2/Relu_output_0, %onnx::Conv_1682, %onnx::Conv_1683)\\n  %/layer3/layer3.13/relu/Relu_output_0 = Relu(%/layer3/layer3.13/conv1/Conv_output_0)\\n  %/layer3/layer3.13/conv2/Conv_output_0 = Conv[dilations = [1, 1], group = 1, kernel_shape = [3, 3], pads = [1, 1, 1, 1], strides = [1, 1]](%/layer3/layer3.13/relu/Relu_output_0, %onnx::Conv_1685, %onnx::Conv_1686)\\n  %/layer3/layer3.13/relu_1/Relu_output_0 = Relu(%/layer3/layer3.13/conv2/Conv_output_0)\\n  %/layer3/layer3.13/conv3/Conv_output_0 = Conv[dilations = [1, 1], group = 1, kernel_shape = [1, 1], pads = [0, 0, 0, 0], strides = [1, 1]](%/layer3/layer3.13/relu_1/Relu_output_0, %onnx::Conv_1688, %onnx::Conv_1689)\\n  %/layer3/layer3.13/Add_output_0 = Add(%/layer3/layer3.13/conv3/Conv_output_0, %/layer3/layer3.12/relu_2/Relu_output_0)\\n  %/layer3/layer3.13/relu_2/Relu_output_0 = Relu(%/layer3/layer3.13/Add_output_0)\\n  %/layer3/layer3.14/conv1/Conv_output_0 = Conv[dilations = [1, 1], group = 1, kernel_shape = [1, 1], pads = [0, 0, 0, 0], strides = [1, 1]](%/layer3/layer3.13/relu_2/Relu_output_0, %onnx::Conv_1691, %onnx::Conv_1692)\\n  %/layer3/layer3.14/relu/Relu_output_0 = Relu(%/layer3/layer3.14/conv1/Conv_output_0)\\n  %/layer3/layer3.14/conv2/Conv_output_0 = Conv[dilations = [1, 1], group = 1, kernel_shape = [3, 3], pads = [1, 1, 1, 1], strides = [1, 1]](%/layer3/layer3.14/relu/Relu_output_0, %onnx::Conv_1694, %onnx::Conv_1695)\\n  %/layer3/layer3.14/relu_1/Relu_output_0 = Relu(%/layer3/layer3.14/conv2/Conv_output_0)\\n  %/layer3/layer3.14/conv3/Conv_output_0 = Conv[dilations = [1, 1], group = 1, kernel_shape = [1, 1], pads = [0, 0, 0, 0], strides = [1, 1]](%/layer3/layer3.14/relu_1/Relu_output_0, %onnx::Conv_1697, %onnx::Conv_1698)\\n  %/layer3/layer3.14/Add_output_0 = Add(%/layer3/layer3.14/conv3/Conv_output_0, %/layer3/layer3.13/relu_2/Relu_output_0)\\n  %/layer3/layer3.14/relu_2/Relu_output_0 = Relu(%/layer3/layer3.14/Add_output_0)\\n  %/layer3/layer3.15/conv1/Conv_output_0 = Conv[dilations = [1, 1], group = 1, kernel_shape = [1, 1], pads = [0, 0, 0, 0], strides = [1, 1]](%/layer3/layer3.14/relu_2/Relu_output_0, %onnx::Conv_1700, %onnx::Conv_1701)\\n  %/layer3/layer3.15/relu/Relu_output_0 = Relu(%/layer3/layer3.15/conv1/Conv_output_0)\\n  %/layer3/layer3.15/conv2/Conv_output_0 = Conv[dilations = [1, 1], group = 1, kernel_shape = [3, 3], pads = [1, 1, 1, 1], strides = [1, 1]](%/layer3/layer3.15/relu/Relu_output_0, %onnx::Conv_1703, %onnx::Conv_1704)\\n  %/layer3/layer3.15/relu_1/Relu_output_0 = Relu(%/layer3/layer3.15/conv2/Conv_output_0)\\n  %/layer3/layer3.15/conv3/Conv_output_0 = Conv[dilations = [1, 1], group = 1, kernel_shape = [1, 1], pads = [0, 0, 0, 0], strides = [1, 1]](%/layer3/layer3.15/relu_1/Relu_output_0, %onnx::Conv_1706, %onnx::Conv_1707)\\n  %/layer3/layer3.15/Add_output_0 = Add(%/layer3/layer3.15/conv3/Conv_output_0, %/layer3/layer3.14/relu_2/Relu_output_0)\\n  %/layer3/layer3.15/relu_2/Relu_output_0 = Relu(%/layer3/layer3.15/Add_output_0)\\n  %/layer3/layer3.16/conv1/Conv_output_0 = Conv[dilations = [1, 1], group = 1, kernel_shape = [1, 1], pads = [0, 0, 0, 0], strides = [1, 1]](%/layer3/layer3.15/relu_2/Relu_output_0, %onnx::Conv_1709, %onnx::Conv_1710)\\n  %/layer3/layer3.16/relu/Relu_output_0 = Relu(%/layer3/layer3.16/conv1/Conv_output_0)\\n  %/layer3/layer3.16/conv2/Conv_output_0 = Conv[dilations = [1, 1], group = 1, kernel_shape = [3, 3], pads = [1, 1, 1, 1], strides = [1, 1]](%/layer3/layer3.16/relu/Relu_output_0, %onnx::Conv_1712, %onnx::Conv_1713)\\n  %/layer3/layer3.16/relu_1/Relu_output_0 = Relu(%/layer3/layer3.16/conv2/Conv_output_0)\\n  %/layer3/layer3.16/conv3/Conv_output_0 = Conv[dilations = [1, 1], group = 1, kernel_shape = [1, 1], pads = [0, 0, 0, 0], strides = [1, 1]](%/layer3/layer3.16/relu_1/Relu_output_0, %onnx::Conv_1715, %onnx::Conv_1716)\\n  %/layer3/layer3.16/Add_output_0 = Add(%/layer3/layer3.16/conv3/Conv_output_0, %/layer3/layer3.15/relu_2/Relu_output_0)\\n  %/layer3/layer3.16/relu_2/Relu_output_0 = Relu(%/layer3/layer3.16/Add_output_0)\\n  %/layer3/layer3.17/conv1/Conv_output_0 = Conv[dilations = [1, 1], group = 1, kernel_shape = [1, 1], pads = [0, 0, 0, 0], strides = [1, 1]](%/layer3/layer3.16/relu_2/Relu_output_0, %onnx::Conv_1718, %onnx::Conv_1719)\\n  %/layer3/layer3.17/relu/Relu_output_0 = Relu(%/layer3/layer3.17/conv1/Conv_output_0)\\n  %/layer3/layer3.17/conv2/Conv_output_0 = Conv[dilations = [1, 1], group = 1, kernel_shape = [3, 3], pads = [1, 1, 1, 1], strides = [1, 1]](%/layer3/layer3.17/relu/Relu_output_0, %onnx::Conv_1721, %onnx::Conv_1722)\\n  %/layer3/layer3.17/relu_1/Relu_output_0 = Relu(%/layer3/layer3.17/conv2/Conv_output_0)\\n  %/layer3/layer3.17/conv3/Conv_output_0 = Conv[dilations = [1, 1], group = 1, kernel_shape = [1, 1], pads = [0, 0, 0, 0], strides = [1, 1]](%/layer3/layer3.17/relu_1/Relu_output_0, %onnx::Conv_1724, %onnx::Conv_1725)\\n  %/layer3/layer3.17/Add_output_0 = Add(%/layer3/layer3.17/conv3/Conv_output_0, %/layer3/layer3.16/relu_2/Relu_output_0)\\n  %/layer3/layer3.17/relu_2/Relu_output_0 = Relu(%/layer3/layer3.17/Add_output_0)\\n  %/layer3/layer3.18/conv1/Conv_output_0 = Conv[dilations = [1, 1], group = 1, kernel_shape = [1, 1], pads = [0, 0, 0, 0], strides = [1, 1]](%/layer3/layer3.17/relu_2/Relu_output_0, %onnx::Conv_1727, %onnx::Conv_1728)\\n  %/layer3/layer3.18/relu/Relu_output_0 = Relu(%/layer3/layer3.18/conv1/Conv_output_0)\\n  %/layer3/layer3.18/conv2/Conv_output_0 = Conv[dilations = [1, 1], group = 1, kernel_shape = [3, 3], pads = [1, 1, 1, 1], strides = [1, 1]](%/layer3/layer3.18/relu/Relu_output_0, %onnx::Conv_1730, %onnx::Conv_1731)\\n  %/layer3/layer3.18/relu_1/Relu_output_0 = Relu(%/layer3/layer3.18/conv2/Conv_output_0)\\n  %/layer3/layer3.18/conv3/Conv_output_0 = Conv[dilations = [1, 1], group = 1, kernel_shape = [1, 1], pads = [0, 0, 0, 0], strides = [1, 1]](%/layer3/layer3.18/relu_1/Relu_output_0, %onnx::Conv_1733, %onnx::Conv_1734)\\n  %/layer3/layer3.18/Add_output_0 = Add(%/layer3/layer3.18/conv3/Conv_output_0, %/layer3/layer3.17/relu_2/Relu_output_0)\\n  %/layer3/layer3.18/relu_2/Relu_output_0 = Relu(%/layer3/layer3.18/Add_output_0)\\n  %/layer3/layer3.19/conv1/Conv_output_0 = Conv[dilations = [1, 1], group = 1, kernel_shape = [1, 1], pads = [0, 0, 0, 0], strides = [1, 1]](%/layer3/layer3.18/relu_2/Relu_output_0, %onnx::Conv_1736, %onnx::Conv_1737)\\n  %/layer3/layer3.19/relu/Relu_output_0 = Relu(%/layer3/layer3.19/conv1/Conv_output_0)\\n  %/layer3/layer3.19/conv2/Conv_output_0 = Conv[dilations = [1, 1], group = 1, kernel_shape = [3, 3], pads = [1, 1, 1, 1], strides = [1, 1]](%/layer3/layer3.19/relu/Relu_output_0, %onnx::Conv_1739, %onnx::Conv_1740)\\n  %/layer3/layer3.19/relu_1/Relu_output_0 = Relu(%/layer3/layer3.19/conv2/Conv_output_0)\\n  %/layer3/layer3.19/conv3/Conv_output_0 = Conv[dilations = [1, 1], group = 1, kernel_shape = [1, 1], pads = [0, 0, 0, 0], strides = [1, 1]](%/layer3/layer3.19/relu_1/Relu_output_0, %onnx::Conv_1742, %onnx::Conv_1743)\\n  %/layer3/layer3.19/Add_output_0 = Add(%/layer3/layer3.19/conv3/Conv_output_0, %/layer3/layer3.18/relu_2/Relu_output_0)\\n  %/layer3/layer3.19/relu_2/Relu_output_0 = Relu(%/layer3/layer3.19/Add_output_0)\\n  %/layer3/layer3.20/conv1/Conv_output_0 = Conv[dilations = [1, 1], group = 1, kernel_shape = [1, 1], pads = [0, 0, 0, 0], strides = [1, 1]](%/layer3/layer3.19/relu_2/Relu_output_0, %onnx::Conv_1745, %onnx::Conv_1746)\\n  %/layer3/layer3.20/relu/Relu_output_0 = Relu(%/layer3/layer3.20/conv1/Conv_output_0)\\n  %/layer3/layer3.20/conv2/Conv_output_0 = Conv[dilations = [1, 1], group = 1, kernel_shape = [3, 3], pads = [1, 1, 1, 1], strides = [1, 1]](%/layer3/layer3.20/relu/Relu_output_0, %onnx::Conv_1748, %onnx::Conv_1749)\\n  %/layer3/layer3.20/relu_1/Relu_output_0 = Relu(%/layer3/layer3.20/conv2/Conv_output_0)\\n  %/layer3/layer3.20/conv3/Conv_output_0 = Conv[dilations = [1, 1], group = 1, kernel_shape = [1, 1], pads = [0, 0, 0, 0], strides = [1, 1]](%/layer3/layer3.20/relu_1/Relu_output_0, %onnx::Conv_1751, %onnx::Conv_1752)\\n  %/layer3/layer3.20/Add_output_0 = Add(%/layer3/layer3.20/conv3/Conv_output_0, %/layer3/layer3.19/relu_2/Relu_output_0)\\n  %/layer3/layer3.20/relu_2/Relu_output_0 = Relu(%/layer3/layer3.20/Add_output_0)\\n  %/layer3/layer3.21/conv1/Conv_output_0 = Conv[dilations = [1, 1], group = 1, kernel_shape = [1, 1], pads = [0, 0, 0, 0], strides = [1, 1]](%/layer3/layer3.20/relu_2/Relu_output_0, %onnx::Conv_1754, %onnx::Conv_1755)\\n  %/layer3/layer3.21/relu/Relu_output_0 = Relu(%/layer3/layer3.21/conv1/Conv_output_0)\\n  %/layer3/layer3.21/conv2/Conv_output_0 = Conv[dilations = [1, 1], group = 1, kernel_shape = [3, 3], pads = [1, 1, 1, 1], strides = [1, 1]](%/layer3/layer3.21/relu/Relu_output_0, %onnx::Conv_1757, %onnx::Conv_1758)\\n  %/layer3/layer3.21/relu_1/Relu_output_0 = Relu(%/layer3/layer3.21/conv2/Conv_output_0)\\n  %/layer3/layer3.21/conv3/Conv_output_0 = Conv[dilations = [1, 1], group = 1, kernel_shape = [1, 1], pads = [0, 0, 0, 0], strides = [1, 1]](%/layer3/layer3.21/relu_1/Relu_output_0, %onnx::Conv_1760, %onnx::Conv_1761)\\n  %/layer3/layer3.21/Add_output_0 = Add(%/layer3/layer3.21/conv3/Conv_output_0, %/layer3/layer3.20/relu_2/Relu_output_0)\\n  %/layer3/layer3.21/relu_2/Relu_output_0 = Relu(%/layer3/layer3.21/Add_output_0)\\n  %/layer3/layer3.22/conv1/Conv_output_0 = Conv[dilations = [1, 1], group = 1, kernel_shape = [1, 1], pads = [0, 0, 0, 0], strides = [1, 1]](%/layer3/layer3.21/relu_2/Relu_output_0, %onnx::Conv_1763, %onnx::Conv_1764)\\n  %/layer3/layer3.22/relu/Relu_output_0 = Relu(%/layer3/layer3.22/conv1/Conv_output_0)\\n  %/layer3/layer3.22/conv2/Conv_output_0 = Conv[dilations = [1, 1], group = 1, kernel_shape = [3, 3], pads = [1, 1, 1, 1], strides = [1, 1]](%/layer3/layer3.22/relu/Relu_output_0, %onnx::Conv_1766, %onnx::Conv_1767)\\n  %/layer3/layer3.22/relu_1/Relu_output_0 = Relu(%/layer3/layer3.22/conv2/Conv_output_0)\\n  %/layer3/layer3.22/conv3/Conv_output_0 = Conv[dilations = [1, 1], group = 1, kernel_shape = [1, 1], pads = [0, 0, 0, 0], strides = [1, 1]](%/layer3/layer3.22/relu_1/Relu_output_0, %onnx::Conv_1769, %onnx::Conv_1770)\\n  %/layer3/layer3.22/Add_output_0 = Add(%/layer3/layer3.22/conv3/Conv_output_0, %/layer3/layer3.21/relu_2/Relu_output_0)\\n  %/layer3/layer3.22/relu_2/Relu_output_0 = Relu(%/layer3/layer3.22/Add_output_0)\\n  %/layer3/layer3.23/conv1/Conv_output_0 = Conv[dilations = [1, 1], group = 1, kernel_shape = [1, 1], pads = [0, 0, 0, 0], strides = [1, 1]](%/layer3/layer3.22/relu_2/Relu_output_0, %onnx::Conv_1772, %onnx::Conv_1773)\\n  %/layer3/layer3.23/relu/Relu_output_0 = Relu(%/layer3/layer3.23/conv1/Conv_output_0)\\n  %/layer3/layer3.23/conv2/Conv_output_0 = Conv[dilations = [1, 1], group = 1, kernel_shape = [3, 3], pads = [1, 1, 1, 1], strides = [1, 1]](%/layer3/layer3.23/relu/Relu_output_0, %onnx::Conv_1775, %onnx::Conv_1776)\\n  %/layer3/layer3.23/relu_1/Relu_output_0 = Relu(%/layer3/layer3.23/conv2/Conv_output_0)\\n  %/layer3/layer3.23/conv3/Conv_output_0 = Conv[dilations = [1, 1], group = 1, kernel_shape = [1, 1], pads = [0, 0, 0, 0], strides = [1, 1]](%/layer3/layer3.23/relu_1/Relu_output_0, %onnx::Conv_1778, %onnx::Conv_1779)\\n  %/layer3/layer3.23/Add_output_0 = Add(%/layer3/layer3.23/conv3/Conv_output_0, %/layer3/layer3.22/relu_2/Relu_output_0)\\n  %/layer3/layer3.23/relu_2/Relu_output_0 = Relu(%/layer3/layer3.23/Add_output_0)\\n  %/layer3/layer3.24/conv1/Conv_output_0 = Conv[dilations = [1, 1], group = 1, kernel_shape = [1, 1], pads = [0, 0, 0, 0], strides = [1, 1]](%/layer3/layer3.23/relu_2/Relu_output_0, %onnx::Conv_1781, %onnx::Conv_1782)\\n  %/layer3/layer3.24/relu/Relu_output_0 = Relu(%/layer3/layer3.24/conv1/Conv_output_0)\\n  %/layer3/layer3.24/conv2/Conv_output_0 = Conv[dilations = [1, 1], group = 1, kernel_shape = [3, 3], pads = [1, 1, 1, 1], strides = [1, 1]](%/layer3/layer3.24/relu/Relu_output_0, %onnx::Conv_1784, %onnx::Conv_1785)\\n  %/layer3/layer3.24/relu_1/Relu_output_0 = Relu(%/layer3/layer3.24/conv2/Conv_output_0)\\n  %/layer3/layer3.24/conv3/Conv_output_0 = Conv[dilations = [1, 1], group = 1, kernel_shape = [1, 1], pads = [0, 0, 0, 0], strides = [1, 1]](%/layer3/layer3.24/relu_1/Relu_output_0, %onnx::Conv_1787, %onnx::Conv_1788)\\n  %/layer3/layer3.24/Add_output_0 = Add(%/layer3/layer3.24/conv3/Conv_output_0, %/layer3/layer3.23/relu_2/Relu_output_0)\\n  %/layer3/layer3.24/relu_2/Relu_output_0 = Relu(%/layer3/layer3.24/Add_output_0)\\n  %/layer3/layer3.25/conv1/Conv_output_0 = Conv[dilations = [1, 1], group = 1, kernel_shape = [1, 1], pads = [0, 0, 0, 0], strides = [1, 1]](%/layer3/layer3.24/relu_2/Relu_output_0, %onnx::Conv_1790, %onnx::Conv_1791)\\n  %/layer3/layer3.25/relu/Relu_output_0 = Relu(%/layer3/layer3.25/conv1/Conv_output_0)\\n  %/layer3/layer3.25/conv2/Conv_output_0 = Conv[dilations = [1, 1], group = 1, kernel_shape = [3, 3], pads = [1, 1, 1, 1], strides = [1, 1]](%/layer3/layer3.25/relu/Relu_output_0, %onnx::Conv_1793, %onnx::Conv_1794)\\n  %/layer3/layer3.25/relu_1/Relu_output_0 = Relu(%/layer3/layer3.25/conv2/Conv_output_0)\\n  %/layer3/layer3.25/conv3/Conv_output_0 = Conv[dilations = [1, 1], group = 1, kernel_shape = [1, 1], pads = [0, 0, 0, 0], strides = [1, 1]](%/layer3/layer3.25/relu_1/Relu_output_0, %onnx::Conv_1796, %onnx::Conv_1797)\\n  %/layer3/layer3.25/Add_output_0 = Add(%/layer3/layer3.25/conv3/Conv_output_0, %/layer3/layer3.24/relu_2/Relu_output_0)\\n  %/layer3/layer3.25/relu_2/Relu_output_0 = Relu(%/layer3/layer3.25/Add_output_0)\\n  %/layer3/layer3.26/conv1/Conv_output_0 = Conv[dilations = [1, 1], group = 1, kernel_shape = [1, 1], pads = [0, 0, 0, 0], strides = [1, 1]](%/layer3/layer3.25/relu_2/Relu_output_0, %onnx::Conv_1799, %onnx::Conv_1800)\\n  %/layer3/layer3.26/relu/Relu_output_0 = Relu(%/layer3/layer3.26/conv1/Conv_output_0)\\n  %/layer3/layer3.26/conv2/Conv_output_0 = Conv[dilations = [1, 1], group = 1, kernel_shape = [3, 3], pads = [1, 1, 1, 1], strides = [1, 1]](%/layer3/layer3.26/relu/Relu_output_0, %onnx::Conv_1802, %onnx::Conv_1803)\\n  %/layer3/layer3.26/relu_1/Relu_output_0 = Relu(%/layer3/layer3.26/conv2/Conv_output_0)\\n  %/layer3/layer3.26/conv3/Conv_output_0 = Conv[dilations = [1, 1], group = 1, kernel_shape = [1, 1], pads = [0, 0, 0, 0], strides = [1, 1]](%/layer3/layer3.26/relu_1/Relu_output_0, %onnx::Conv_1805, %onnx::Conv_1806)\\n  %/layer3/layer3.26/Add_output_0 = Add(%/layer3/layer3.26/conv3/Conv_output_0, %/layer3/layer3.25/relu_2/Relu_output_0)\\n  %/layer3/layer3.26/relu_2/Relu_output_0 = Relu(%/layer3/layer3.26/Add_output_0)\\n  %/layer3/layer3.27/conv1/Conv_output_0 = Conv[dilations = [1, 1], group = 1, kernel_shape = [1, 1], pads = [0, 0, 0, 0], strides = [1, 1]](%/layer3/layer3.26/relu_2/Relu_output_0, %onnx::Conv_1808, %onnx::Conv_1809)\\n  %/layer3/layer3.27/relu/Relu_output_0 = Relu(%/layer3/layer3.27/conv1/Conv_output_0)\\n  %/layer3/layer3.27/conv2/Conv_output_0 = Conv[dilations = [1, 1], group = 1, kernel_shape = [3, 3], pads = [1, 1, 1, 1], strides = [1, 1]](%/layer3/layer3.27/relu/Relu_output_0, %onnx::Conv_1811, %onnx::Conv_1812)\\n  %/layer3/layer3.27/relu_1/Relu_output_0 = Relu(%/layer3/layer3.27/conv2/Conv_output_0)\\n  %/layer3/layer3.27/conv3/Conv_output_0 = Conv[dilations = [1, 1], group = 1, kernel_shape = [1, 1], pads = [0, 0, 0, 0], strides = [1, 1]](%/layer3/layer3.27/relu_1/Relu_output_0, %onnx::Conv_1814, %onnx::Conv_1815)\\n  %/layer3/layer3.27/Add_output_0 = Add(%/layer3/layer3.27/conv3/Conv_output_0, %/layer3/layer3.26/relu_2/Relu_output_0)\\n  %/layer3/layer3.27/relu_2/Relu_output_0 = Relu(%/layer3/layer3.27/Add_output_0)\\n  %/layer3/layer3.28/conv1/Conv_output_0 = Conv[dilations = [1, 1], group = 1, kernel_shape = [1, 1], pads = [0, 0, 0, 0], strides = [1, 1]](%/layer3/layer3.27/relu_2/Relu_output_0, %onnx::Conv_1817, %onnx::Conv_1818)\\n  %/layer3/layer3.28/relu/Relu_output_0 = Relu(%/layer3/layer3.28/conv1/Conv_output_0)\\n  %/layer3/layer3.28/conv2/Conv_output_0 = Conv[dilations = [1, 1], group = 1, kernel_shape = [3, 3], pads = [1, 1, 1, 1], strides = [1, 1]](%/layer3/layer3.28/relu/Relu_output_0, %onnx::Conv_1820, %onnx::Conv_1821)\\n  %/layer3/layer3.28/relu_1/Relu_output_0 = Relu(%/layer3/layer3.28/conv2/Conv_output_0)\\n  %/layer3/layer3.28/conv3/Conv_output_0 = Conv[dilations = [1, 1], group = 1, kernel_shape = [1, 1], pads = [0, 0, 0, 0], strides = [1, 1]](%/layer3/layer3.28/relu_1/Relu_output_0, %onnx::Conv_1823, %onnx::Conv_1824)\\n  %/layer3/layer3.28/Add_output_0 = Add(%/layer3/layer3.28/conv3/Conv_output_0, %/layer3/layer3.27/relu_2/Relu_output_0)\\n  %/layer3/layer3.28/relu_2/Relu_output_0 = Relu(%/layer3/layer3.28/Add_output_0)\\n  %/layer3/layer3.29/conv1/Conv_output_0 = Conv[dilations = [1, 1], group = 1, kernel_shape = [1, 1], pads = [0, 0, 0, 0], strides = [1, 1]](%/layer3/layer3.28/relu_2/Relu_output_0, %onnx::Conv_1826, %onnx::Conv_1827)\\n  %/layer3/layer3.29/relu/Relu_output_0 = Relu(%/layer3/layer3.29/conv1/Conv_output_0)\\n  %/layer3/layer3.29/conv2/Conv_output_0 = Conv[dilations = [1, 1], group = 1, kernel_shape = [3, 3], pads = [1, 1, 1, 1], strides = [1, 1]](%/layer3/layer3.29/relu/Relu_output_0, %onnx::Conv_1829, %onnx::Conv_1830)\\n  %/layer3/layer3.29/relu_1/Relu_output_0 = Relu(%/layer3/layer3.29/conv2/Conv_output_0)\\n  %/layer3/layer3.29/conv3/Conv_output_0 = Conv[dilations = [1, 1], group = 1, kernel_shape = [1, 1], pads = [0, 0, 0, 0], strides = [1, 1]](%/layer3/layer3.29/relu_1/Relu_output_0, %onnx::Conv_1832, %onnx::Conv_1833)\\n  %/layer3/layer3.29/Add_output_0 = Add(%/layer3/layer3.29/conv3/Conv_output_0, %/layer3/layer3.28/relu_2/Relu_output_0)\\n  %/layer3/layer3.29/relu_2/Relu_output_0 = Relu(%/layer3/layer3.29/Add_output_0)\\n  %/layer3/layer3.30/conv1/Conv_output_0 = Conv[dilations = [1, 1], group = 1, kernel_shape = [1, 1], pads = [0, 0, 0, 0], strides = [1, 1]](%/layer3/layer3.29/relu_2/Relu_output_0, %onnx::Conv_1835, %onnx::Conv_1836)\\n  %/layer3/layer3.30/relu/Relu_output_0 = Relu(%/layer3/layer3.30/conv1/Conv_output_0)\\n  %/layer3/layer3.30/conv2/Conv_output_0 = Conv[dilations = [1, 1], group = 1, kernel_shape = [3, 3], pads = [1, 1, 1, 1], strides = [1, 1]](%/layer3/layer3.30/relu/Relu_output_0, %onnx::Conv_1838, %onnx::Conv_1839)\\n  %/layer3/layer3.30/relu_1/Relu_output_0 = Relu(%/layer3/layer3.30/conv2/Conv_output_0)\\n  %/layer3/layer3.30/conv3/Conv_output_0 = Conv[dilations = [1, 1], group = 1, kernel_shape = [1, 1], pads = [0, 0, 0, 0], strides = [1, 1]](%/layer3/layer3.30/relu_1/Relu_output_0, %onnx::Conv_1841, %onnx::Conv_1842)\\n  %/layer3/layer3.30/Add_output_0 = Add(%/layer3/layer3.30/conv3/Conv_output_0, %/layer3/layer3.29/relu_2/Relu_output_0)\\n  %/layer3/layer3.30/relu_2/Relu_output_0 = Relu(%/layer3/layer3.30/Add_output_0)\\n  %/layer3/layer3.31/conv1/Conv_output_0 = Conv[dilations = [1, 1], group = 1, kernel_shape = [1, 1], pads = [0, 0, 0, 0], strides = [1, 1]](%/layer3/layer3.30/relu_2/Relu_output_0, %onnx::Conv_1844, %onnx::Conv_1845)\\n  %/layer3/layer3.31/relu/Relu_output_0 = Relu(%/layer3/layer3.31/conv1/Conv_output_0)\\n  %/layer3/layer3.31/conv2/Conv_output_0 = Conv[dilations = [1, 1], group = 1, kernel_shape = [3, 3], pads = [1, 1, 1, 1], strides = [1, 1]](%/layer3/layer3.31/relu/Relu_output_0, %onnx::Conv_1847, %onnx::Conv_1848)\\n  %/layer3/layer3.31/relu_1/Relu_output_0 = Relu(%/layer3/layer3.31/conv2/Conv_output_0)\\n  %/layer3/layer3.31/conv3/Conv_output_0 = Conv[dilations = [1, 1], group = 1, kernel_shape = [1, 1], pads = [0, 0, 0, 0], strides = [1, 1]](%/layer3/layer3.31/relu_1/Relu_output_0, %onnx::Conv_1850, %onnx::Conv_1851)\\n  %/layer3/layer3.31/Add_output_0 = Add(%/layer3/layer3.31/conv3/Conv_output_0, %/layer3/layer3.30/relu_2/Relu_output_0)\\n  %/layer3/layer3.31/relu_2/Relu_output_0 = Relu(%/layer3/layer3.31/Add_output_0)\\n  %/layer3/layer3.32/conv1/Conv_output_0 = Conv[dilations = [1, 1], group = 1, kernel_shape = [1, 1], pads = [0, 0, 0, 0], strides = [1, 1]](%/layer3/layer3.31/relu_2/Relu_output_0, %onnx::Conv_1853, %onnx::Conv_1854)\\n  %/layer3/layer3.32/relu/Relu_output_0 = Relu(%/layer3/layer3.32/conv1/Conv_output_0)\\n  %/layer3/layer3.32/conv2/Conv_output_0 = Conv[dilations = [1, 1], group = 1, kernel_shape = [3, 3], pads = [1, 1, 1, 1], strides = [1, 1]](%/layer3/layer3.32/relu/Relu_output_0, %onnx::Conv_1856, %onnx::Conv_1857)\\n  %/layer3/layer3.32/relu_1/Relu_output_0 = Relu(%/layer3/layer3.32/conv2/Conv_output_0)\\n  %/layer3/layer3.32/conv3/Conv_output_0 = Conv[dilations = [1, 1], group = 1, kernel_shape = [1, 1], pads = [0, 0, 0, 0], strides = [1, 1]](%/layer3/layer3.32/relu_1/Relu_output_0, %onnx::Conv_1859, %onnx::Conv_1860)\\n  %/layer3/layer3.32/Add_output_0 = Add(%/layer3/layer3.32/conv3/Conv_output_0, %/layer3/layer3.31/relu_2/Relu_output_0)\\n  %/layer3/layer3.32/relu_2/Relu_output_0 = Relu(%/layer3/layer3.32/Add_output_0)\\n  %/layer3/layer3.33/conv1/Conv_output_0 = Conv[dilations = [1, 1], group = 1, kernel_shape = [1, 1], pads = [0, 0, 0, 0], strides = [1, 1]](%/layer3/layer3.32/relu_2/Relu_output_0, %onnx::Conv_1862, %onnx::Conv_1863)\\n  %/layer3/layer3.33/relu/Relu_output_0 = Relu(%/layer3/layer3.33/conv1/Conv_output_0)\\n  %/layer3/layer3.33/conv2/Conv_output_0 = Conv[dilations = [1, 1], group = 1, kernel_shape = [3, 3], pads = [1, 1, 1, 1], strides = [1, 1]](%/layer3/layer3.33/relu/Relu_output_0, %onnx::Conv_1865, %onnx::Conv_1866)\\n  %/layer3/layer3.33/relu_1/Relu_output_0 = Relu(%/layer3/layer3.33/conv2/Conv_output_0)\\n  %/layer3/layer3.33/conv3/Conv_output_0 = Conv[dilations = [1, 1], group = 1, kernel_shape = [1, 1], pads = [0, 0, 0, 0], strides = [1, 1]](%/layer3/layer3.33/relu_1/Relu_output_0, %onnx::Conv_1868, %onnx::Conv_1869)\\n  %/layer3/layer3.33/Add_output_0 = Add(%/layer3/layer3.33/conv3/Conv_output_0, %/layer3/layer3.32/relu_2/Relu_output_0)\\n  %/layer3/layer3.33/relu_2/Relu_output_0 = Relu(%/layer3/layer3.33/Add_output_0)\\n  %/layer3/layer3.34/conv1/Conv_output_0 = Conv[dilations = [1, 1], group = 1, kernel_shape = [1, 1], pads = [0, 0, 0, 0], strides = [1, 1]](%/layer3/layer3.33/relu_2/Relu_output_0, %onnx::Conv_1871, %onnx::Conv_1872)\\n  %/layer3/layer3.34/relu/Relu_output_0 = Relu(%/layer3/layer3.34/conv1/Conv_output_0)\\n  %/layer3/layer3.34/conv2/Conv_output_0 = Conv[dilations = [1, 1], group = 1, kernel_shape = [3, 3], pads = [1, 1, 1, 1], strides = [1, 1]](%/layer3/layer3.34/relu/Relu_output_0, %onnx::Conv_1874, %onnx::Conv_1875)\\n  %/layer3/layer3.34/relu_1/Relu_output_0 = Relu(%/layer3/layer3.34/conv2/Conv_output_0)\\n  %/layer3/layer3.34/conv3/Conv_output_0 = Conv[dilations = [1, 1], group = 1, kernel_shape = [1, 1], pads = [0, 0, 0, 0], strides = [1, 1]](%/layer3/layer3.34/relu_1/Relu_output_0, %onnx::Conv_1877, %onnx::Conv_1878)\\n  %/layer3/layer3.34/Add_output_0 = Add(%/layer3/layer3.34/conv3/Conv_output_0, %/layer3/layer3.33/relu_2/Relu_output_0)\\n  %/layer3/layer3.34/relu_2/Relu_output_0 = Relu(%/layer3/layer3.34/Add_output_0)\\n  %/layer3/layer3.35/conv1/Conv_output_0 = Conv[dilations = [1, 1], group = 1, kernel_shape = [1, 1], pads = [0, 0, 0, 0], strides = [1, 1]](%/layer3/layer3.34/relu_2/Relu_output_0, %onnx::Conv_1880, %onnx::Conv_1881)\\n  %/layer3/layer3.35/relu/Relu_output_0 = Relu(%/layer3/layer3.35/conv1/Conv_output_0)\\n  %/layer3/layer3.35/conv2/Conv_output_0 = Conv[dilations = [1, 1], group = 1, kernel_shape = [3, 3], pads = [1, 1, 1, 1], strides = [1, 1]](%/layer3/layer3.35/relu/Relu_output_0, %onnx::Conv_1883, %onnx::Conv_1884)\\n  %/layer3/layer3.35/relu_1/Relu_output_0 = Relu(%/layer3/layer3.35/conv2/Conv_output_0)\\n  %/layer3/layer3.35/conv3/Conv_output_0 = Conv[dilations = [1, 1], group = 1, kernel_shape = [1, 1], pads = [0, 0, 0, 0], strides = [1, 1]](%/layer3/layer3.35/relu_1/Relu_output_0, %onnx::Conv_1886, %onnx::Conv_1887)\\n  %/layer3/layer3.35/Add_output_0 = Add(%/layer3/layer3.35/conv3/Conv_output_0, %/layer3/layer3.34/relu_2/Relu_output_0)\\n  %/layer3/layer3.35/relu_2/Relu_output_0 = Relu(%/layer3/layer3.35/Add_output_0)\\n  %/layer4/layer4.0/conv1/Conv_output_0 = Conv[dilations = [1, 1], group = 1, kernel_shape = [1, 1], pads = [0, 0, 0, 0], strides = [1, 1]](%/layer3/layer3.35/relu_2/Relu_output_0, %onnx::Conv_1889, %onnx::Conv_1890)\\n  %/layer4/layer4.0/relu/Relu_output_0 = Relu(%/layer4/layer4.0/conv1/Conv_output_0)\\n  %/layer4/layer4.0/conv2/Conv_output_0 = Conv[dilations = [1, 1], group = 1, kernel_shape = [3, 3], pads = [1, 1, 1, 1], strides = [2, 2]](%/layer4/layer4.0/relu/Relu_output_0, %onnx::Conv_1892, %onnx::Conv_1893)\\n  %/layer4/layer4.0/relu_1/Relu_output_0 = Relu(%/layer4/layer4.0/conv2/Conv_output_0)\\n  %/layer4/layer4.0/conv3/Conv_output_0 = Conv[dilations = [1, 1], group = 1, kernel_shape = [1, 1], pads = [0, 0, 0, 0], strides = [1, 1]](%/layer4/layer4.0/relu_1/Relu_output_0, %onnx::Conv_1895, %onnx::Conv_1896)\\n  %/layer4/layer4.0/downsample/downsample.0/Conv_output_0 = Conv[dilations = [1, 1], group = 1, kernel_shape = [1, 1], pads = [0, 0, 0, 0], strides = [2, 2]](%/layer3/layer3.35/relu_2/Relu_output_0, %onnx::Conv_1898, %onnx::Conv_1899)\\n  %/layer4/layer4.0/Add_output_0 = Add(%/layer4/layer4.0/conv3/Conv_output_0, %/layer4/layer4.0/downsample/downsample.0/Conv_output_0)\\n  %/layer4/layer4.0/relu_2/Relu_output_0 = Relu(%/layer4/layer4.0/Add_output_0)\\n  %/layer4/layer4.1/conv1/Conv_output_0 = Conv[dilations = [1, 1], group = 1, kernel_shape = [1, 1], pads = [0, 0, 0, 0], strides = [1, 1]](%/layer4/layer4.0/relu_2/Relu_output_0, %onnx::Conv_1901, %onnx::Conv_1902)\\n  %/layer4/layer4.1/relu/Relu_output_0 = Relu(%/layer4/layer4.1/conv1/Conv_output_0)\\n  %/layer4/layer4.1/conv2/Conv_output_0 = Conv[dilations = [1, 1], group = 1, kernel_shape = [3, 3], pads = [1, 1, 1, 1], strides = [1, 1]](%/layer4/layer4.1/relu/Relu_output_0, %onnx::Conv_1904, %onnx::Conv_1905)\\n  %/layer4/layer4.1/relu_1/Relu_output_0 = Relu(%/layer4/layer4.1/conv2/Conv_output_0)\\n  %/layer4/layer4.1/conv3/Conv_output_0 = Conv[dilations = [1, 1], group = 1, kernel_shape = [1, 1], pads = [0, 0, 0, 0], strides = [1, 1]](%/layer4/layer4.1/relu_1/Relu_output_0, %onnx::Conv_1907, %onnx::Conv_1908)\\n  %/layer4/layer4.1/Add_output_0 = Add(%/layer4/layer4.1/conv3/Conv_output_0, %/layer4/layer4.0/relu_2/Relu_output_0)\\n  %/layer4/layer4.1/relu_2/Relu_output_0 = Relu(%/layer4/layer4.1/Add_output_0)\\n  %/layer4/layer4.2/conv1/Conv_output_0 = Conv[dilations = [1, 1], group = 1, kernel_shape = [1, 1], pads = [0, 0, 0, 0], strides = [1, 1]](%/layer4/layer4.1/relu_2/Relu_output_0, %onnx::Conv_1910, %onnx::Conv_1911)\\n  %/layer4/layer4.2/relu/Relu_output_0 = Relu(%/layer4/layer4.2/conv1/Conv_output_0)\\n  %/layer4/layer4.2/conv2/Conv_output_0 = Conv[dilations = [1, 1], group = 1, kernel_shape = [3, 3], pads = [1, 1, 1, 1], strides = [1, 1]](%/layer4/layer4.2/relu/Relu_output_0, %onnx::Conv_1913, %onnx::Conv_1914)\\n  %/layer4/layer4.2/relu_1/Relu_output_0 = Relu(%/layer4/layer4.2/conv2/Conv_output_0)\\n  %/layer4/layer4.2/conv3/Conv_output_0 = Conv[dilations = [1, 1], group = 1, kernel_shape = [1, 1], pads = [0, 0, 0, 0], strides = [1, 1]](%/layer4/layer4.2/relu_1/Relu_output_0, %onnx::Conv_1916, %onnx::Conv_1917)\\n  %/layer4/layer4.2/Add_output_0 = Add(%/layer4/layer4.2/conv3/Conv_output_0, %/layer4/layer4.1/relu_2/Relu_output_0)\\n  %/layer4/layer4.2/relu_2/Relu_output_0 = Relu(%/layer4/layer4.2/Add_output_0)\\n  %/avgpool/GlobalAveragePool_output_0 = GlobalAveragePool(%/layer4/layer4.2/relu_2/Relu_output_0)\\n  %/Flatten_output_0 = Flatten[axis = 1](%/avgpool/GlobalAveragePool_output_0)\\n  %/fc/fc.0/Gemm_output_0 = Gemm[alpha = 1, beta = 1, transB = 1](%/Flatten_output_0, %fc.0.weight, %fc.0.bias)\\n  %/fc/fc.1/Relu_output_0 = Relu(%/fc/fc.0/Gemm_output_0)\\n  %/fc/fc.2/Gemm_output_0 = Gemm[alpha = 1, beta = 1, transB = 1](%/fc/fc.1/Relu_output_0, %fc.2.weight, %fc.2.bias)\\n  %1452 = LogSoftmax[axis = 1](%/fc/fc.2/Gemm_output_0)\\n  return %1452\\n}'"
      ]
     },
     "execution_count": 5,
     "metadata": {},
     "output_type": "execute_result"
    }
   ],
   "source": [
    "# Load the ONNX model\n",
    "onnx_model = onnx.load(\"model.onnx\")\n",
    "\n",
    "# Check that the IR is well formed\n",
    "onnx.checker.check_model(onnx_model)\n",
    "\n",
    "# Print a human readable representation of the graph\n",
    "onnx.helper.printable_graph(onnx_model.graph)\n"
   ]
  },
  {
   "cell_type": "code",
   "execution_count": 6,
   "id": "12b9bc59-7b03-43d6-949a-d32c0792a94c",
   "metadata": {},
   "outputs": [
    {
     "name": "stdout",
     "output_type": "stream",
     "text": [
      "model single inference in milliSeconds on onnxruntime 65\n",
      "Output [array([[-0.634313 , -0.7556603]], dtype=float32)]\n"
     ]
    }
   ],
   "source": [
    "import onnxruntime as nxrun\n",
    "\n",
    "sess = nxrun.InferenceSession('./model.onnx')\n",
    "input_name = sess.get_inputs()[0].name\n",
    "output_name = sess.get_outputs()[0].name\n",
    "start_time = mills()\n",
    "# run onnx model with onnx runtime python\n",
    "result = sess.run(None, {input_name: dummy_input.numpy()})\n",
    "\n",
    "end_time = mills()\n",
    "print(\"model single inference in milliSeconds on onnxruntime\", end_time - start_time)\n",
    "print(\"Output\", result)"
   ]
  },
  {
   "cell_type": "markdown",
   "id": "d696d0fc-cdff-429d-9006-c6c6a994a5a3",
   "metadata": {},
   "source": [
    "## Test integirty"
   ]
  },
  {
   "cell_type": "code",
   "execution_count": 10,
   "id": "f5628a2a-8362-47b2-8bcc-451a1ef36de1",
   "metadata": {},
   "outputs": [
    {
     "name": "stdout",
     "output_type": "stream",
     "text": [
      "Testing examples: 500\n"
     ]
    }
   ],
   "source": [
    "from torch.utils.data import Dataset, DataLoader, SubsetRandomSampler\n",
    "from torchvision import transforms\n",
    "import pandas as pd\n",
    "import numpy as np\n",
    "# Custom Dataset Class\n",
    "class CataractDataset(Dataset):\n",
    "    def __init__(self, csv_file, root_dir, transform=None):\n",
    "        self.data = pd.read_csv(csv_file)\n",
    "        self.root_dir = root_dir\n",
    "        self.transform = transform\n",
    "\n",
    "    def __len__(self):\n",
    "        return len(self.data)\n",
    "\n",
    "    def __getitem__(self, idx):\n",
    "        if idx >= len(self.data):\n",
    "            # Return placeholder data when index is out of bounds\n",
    "            return self.get_placeholder_data()\n",
    "        \n",
    "        img_name = os.path.join(self.root_dir, self.data.iloc[idx, 0])\n",
    "        try:\n",
    "            image = Image.open(img_name).convert('RGB')\n",
    "            label = int(self.data.iloc[idx, 1])\n",
    "            if label not in [0, 1]:\n",
    "                raise ValueError(\"Invalid label\")\n",
    "        except Exception as e:\n",
    "            print(f\"Warning: {e}. Using a blank image.\")\n",
    "            image = Image.new('RGB', (224, 224))\n",
    "            label = 0  # Default label for blank image\n",
    "\n",
    "        if self.transform:\n",
    "            image = self.transform(image)\n",
    "\n",
    "        return image, label\n",
    "    def get_placeholder_data(self):\n",
    "        # Return a blank image and a default label\n",
    "        blank_image = Image.new('RGB', (224, 224), color='white')\n",
    "        default_label = 0  # Default label\n",
    "        if self.transform:\n",
    "            blank_image = self.transform(blank_image)\n",
    "        return blank_image, default_label\n",
    "\n",
    "test_transforms = transforms.Compose([\n",
    "    transforms.CenterCrop(224),\n",
    "    transforms.Resize(224),\n",
    "    transforms.ToTensor(),\n",
    "    transforms.Normalize([0.485, 0.456, 0.406], [0.229, 0.224, 0.225])\n",
    "])\n",
    "\n",
    "# Create Dataset and DataLoader\n",
    "test_dataset = CataractDataset(csv_file='test2.csv', root_dir='./', transform=test_transforms)\n",
    "\n",
    "valid_size = 0.2\n",
    "num_train = len(test_dataset)\n",
    "indices = list(range(num_train))\n",
    "np.random.shuffle(indices)\n",
    "split = int(np.floor(valid_size * num_train))\n",
    "train_idx, valid_idx = indices[split:], indices[:split]\n",
    "\n",
    "valid_sampler = SubsetRandomSampler(valid_idx)\n",
    "testloader = DataLoader(test_dataset, batch_size=1, sampler=valid_sampler)\n",
    "\n",
    "print(f'Testing examples: {len(test_dataset)}')"
   ]
  },
  {
   "cell_type": "code",
   "execution_count": 11,
   "id": "8731e504-b681-458d-be14-fd71a7565df9",
   "metadata": {},
   "outputs": [
    {
     "name": "stdout",
     "output_type": "stream",
     "text": [
      "ONNX Model Test Accuracy: 0.960\n"
     ]
    }
   ],
   "source": [
    "# Load the ONNX model\n",
    "onnx_model_path = \"model.onnx\"\n",
    "onnx_model = onnx.load(onnx_model_path)\n",
    "onnx.checker.check_model(onnx_model)\n",
    "ort_session = nxrun.InferenceSession(onnx_model_path)\n",
    "\n",
    "# Function to run inference and check outputs for ONNX model\n",
    "def check_onnx_model(ort_session, testloader):\n",
    "    correct = 0\n",
    "    total = 0\n",
    "    for images, labels in testloader:\n",
    "        # Convert images and labels to numpy\n",
    "        images_np = images.numpy()\n",
    "        labels_np = labels.numpy()\n",
    "        \n",
    "        # Run inference\n",
    "        ort_inputs = {ort_session.get_inputs()[0].name: images_np}\n",
    "        ort_outs = ort_session.run(None, ort_inputs)\n",
    "        \n",
    "        # Get the predicted class\n",
    "        outputs = np.array(ort_outs[0])\n",
    "        predicted = np.argmax(outputs, axis=1)\n",
    "        \n",
    "        total += labels_np.size\n",
    "        correct += (predicted == labels_np).sum().item()\n",
    "    \n",
    "    accuracy = correct / total\n",
    "    print(f'ONNX Model Test Accuracy: {accuracy:.3f}')\n",
    "\n",
    "# Run the ONNX model integrity check\n",
    "check_onnx_model(ort_session, testloader)\n",
    "\n"
   ]
  },
  {
   "cell_type": "markdown",
   "id": "a6deee67-3f41-4595-87e2-487054b7710d",
   "metadata": {},
   "source": [
    "## Convert from ONNX to TensorFlow FreezeGraph\n",
    "\n",
    "\n",
    "We will use onnx-tf to convert model\n",
    "\n",
    "onnx_tf is the library build by onnx team which is used to transfer the model from onnx to tensorflow it can create a backend to enable the model to run with tensorflow. We will first load the saved .onnx model file with onnx.load and the by using prepare function of onnx_tf prepare that loaded model to be run by tensorflow. and by using the export_graph function of that prepared backend we can export this model in a file format with .tf extension supported by Original Tensorflow\n"
   ]
  },
  {
   "cell_type": "code",
   "execution_count": 38,
   "id": "d3ada84a-4aae-4bf5-af25-1580dec09a5b",
   "metadata": {},
   "outputs": [
    {
     "name": "stdout",
     "output_type": "stream",
     "text": [
      "The history saving thread hit an unexpected error (OperationalError('attempt to write a readonly database')).History will not be written to the database.\n",
      "Requirement already satisfied: numpy>=1.20 in /home/thembo/college/cataract/lib/python3.9/site-packages (from onnx) (1.26.4)\n",
      "Requirement already satisfied: protobuf>=3.20.2 in /home/thembo/college/cataract/lib/python3.9/site-packages (from onnx) (3.20.3)\n",
      "Requirement already satisfied: numpy>=1.20 in /home/thembo/college/cataract/lib/python3.9/site-packages (from onnx>=1.5.0->onnx-tf==1.5.0) (1.26.4)\n",
      "Requirement already satisfied: protobuf>=3.20.2 in /home/thembo/college/cataract/lib/python3.9/site-packages (from onnx>=1.5.0->onnx-tf==1.5.0) (3.20.3)\n"
     ]
    }
   ],
   "source": [
    "# install onnx and onnx-tf\n",
    "!pip install --upgrade onnx | tail -n 2\n",
    "!pip install  onnx-tf==1.5.0 | tail -n 2"
   ]
  },
  {
   "cell_type": "code",
   "execution_count": 52,
   "id": "19fea8b8-79fc-4a38-993b-db02ebfec275",
   "metadata": {},
   "outputs": [
    {
     "name": "stdout",
     "output_type": "stream",
     "text": [
      "tensorflow                    2.5.0\n",
      "tensorflow-addons             0.23.0\n",
      "tensorflow-cpu                2.16.1\n",
      "tensorflow-datasets           4.9.3\n",
      "tensorflow-estimator          2.5.0\n",
      "tensorflow-hub                0.16.1\n",
      "tensorflow-io-gcs-filesystem  0.37.0\n",
      "tensorflow-metadata           1.15.0\n",
      "tensorflow-model-optimization 0.8.0\n",
      "tensorflow-probability        0.24.0\n",
      "tensorflow-text               2.15.0\n"
     ]
    }
   ],
   "source": [
    "# see versions of all tensorflow libraries installed\n",
    "!pip list | grep 'flow'"
   ]
  },
  {
   "cell_type": "code",
   "execution_count": 53,
   "id": "aae46cab-d4cb-42ad-a21c-705722a62b38",
   "metadata": {},
   "outputs": [],
   "source": [
    "import onnx\n",
    "import tensorflow as tf"
   ]
  },
  {
   "cell_type": "code",
   "execution_count": 54,
   "id": "33e6f249-0d09-4f25-ba31-ef7e45a0d18f",
   "metadata": {},
   "outputs": [
    {
     "name": "stdout",
     "output_type": "stream",
     "text": [
      "2024-05-30 10:54:57.200026: W tensorflow/stream_executor/platform/default/dso_loader.cc:64] Could not load dynamic library 'libcudart.so.11.0'; dlerror: libcudart.so.11.0: cannot open shared object file: No such file or directory\n",
      "2024-05-30 10:54:57.200051: I tensorflow/stream_executor/cuda/cudart_stub.cc:29] Ignore above cudart dlerror if you do not have a GPU set up on your machine.\n",
      "/home/thembo/college/cataract/lib/python3.9/site-packages/tensorflow/python/keras/engine/training_arrays_v1.py:37: UserWarning: A NumPy version >=1.22.4 and <2.3.0 is required for this version of SciPy (detected version 1.19.5)\n",
      "  from scipy.sparse import issparse  # pylint: disable=g-import-not-at-top\n",
      "/home/thembo/college/cataract/lib/python3.9/site-packages/onnx_tf/common/__init__.py:89: UserWarning: onnx_tf.common.get_outputs_names is deprecated. It will be removed in future release. Use TensorflowGraph.get_outputs_names instead.\n",
      "  warnings.warn(message)\n",
      "Traceback (most recent call last):\n",
      "  File \"/home/thembo/college/cataract/bin/onnx-tf\", line 5, in <module>\n",
      "    from onnx_tf.cli import main\n",
      "  File \"/home/thembo/college/cataract/lib/python3.9/site-packages/onnx_tf/__init__.py\", line 1, in <module>\n",
      "    from . import backend\n",
      "  File \"/home/thembo/college/cataract/lib/python3.9/site-packages/onnx_tf/backend.py\", line 29, in <module>\n",
      "    from onnx_tf.common.handler_helper import get_all_backend_handlers\n",
      "  File \"/home/thembo/college/cataract/lib/python3.9/site-packages/onnx_tf/common/handler_helper.py\", line 5, in <module>\n",
      "    from onnx_tf.handlers.backend import *  # noqa\n",
      "  File \"/home/thembo/college/cataract/lib/python3.9/site-packages/onnx_tf/handlers/backend/ceil.py\", line 10, in <module>\n",
      "    @tf_func(tf.ceil)\n",
      "AttributeError: module 'tensorflow' has no attribute 'ceil'\n"
     ]
    }
   ],
   "source": [
    "!onnx-tf convert -i \"./model.onnx\" -o  './final_model.pb' "
   ]
  },
  {
   "cell_type": "code",
   "execution_count": null,
   "id": "4adc5f44-6ad1-4c6c-b147-978ff6aa9cb3",
   "metadata": {},
   "outputs": [],
   "source": []
  }
 ],
 "metadata": {
  "kernelspec": {
   "display_name": "Python 3 (ipykernel)",
   "language": "python",
   "name": "python3"
  },
  "language_info": {
   "codemirror_mode": {
    "name": "ipython",
    "version": 3
   },
   "file_extension": ".py",
   "mimetype": "text/x-python",
   "name": "python",
   "nbconvert_exporter": "python",
   "pygments_lexer": "ipython3",
   "version": "3.10.12"
  }
 },
 "nbformat": 4,
 "nbformat_minor": 5
}
